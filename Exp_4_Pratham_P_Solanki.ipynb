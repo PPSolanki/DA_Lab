{
  "nbformat": 4,
  "nbformat_minor": 0,
  "metadata": {
    "colab": {
      "provenance": [],
      "authorship_tag": "ABX9TyPRss92IZHrynynFZuOUyLB"
    },
    "kernelspec": {
      "name": "python3",
      "display_name": "Python 3"
    },
    "language_info": {
      "name": "python"
    }
  },
  "cells": [
    {
      "cell_type": "code",
      "execution_count": 1,
      "metadata": {
        "id": "_Ga-1LpKtu0X"
      },
      "outputs": [],
      "source": [
        "import pandas as pd\n",
        "import seaborn as sns\n",
        "import numpy as np\n",
        "import matplotlib.pyplot as plt\n",
        "from sklearn.metrics import r2_score"
      ]
    },
    {
      "cell_type": "markdown",
      "source": [
        "We use the same dataset as earlier, the top 500 run scoreres in ODI cricket"
      ],
      "metadata": {
        "id": "vNeBhDMRzUBR"
      }
    },
    {
      "cell_type": "code",
      "source": [
        "data = pd.read_csv(\"/content/ODI data.csv\")\n",
        "print(data.shape)\n",
        "data"
      ],
      "metadata": {
        "colab": {
          "base_uri": "https://localhost:8080/",
          "height": 676
        },
        "id": "H7nFVw-0t7_p",
        "outputId": "84eb6192-91cc-4b2f-8d6b-e779762f746a"
      },
      "execution_count": 2,
      "outputs": [
        {
          "output_type": "stream",
          "name": "stdout",
          "text": [
            "(500, 15)\n"
          ]
        },
        {
          "output_type": "execute_result",
          "data": {
            "text/plain": [
              "     Unnamed: 0                       Player       Span  Mat  Inns  NO   Runs  \\\n",
              "0             0         SR Tendulkar (INDIA)  1989-2012  463   452  41  18426   \n",
              "1             1  KC Sangakkara (Asia/ICC/SL)  2000-2015  404   380  41  14234   \n",
              "2             2         RT Ponting (AUS/ICC)  1995-2012  375   365  39  13704   \n",
              "3             3      ST Jayasuriya (Asia/SL)  1989-2011  445   433  18  13430   \n",
              "4             4   DPMD Jayawardene (Asia/SL)  1998-2015  448   418  39  12650   \n",
              "..          ...                          ...        ...  ...   ...  ..    ...   \n",
              "495          45              PA Wallace (WI)  1991-2000   33    33   0    701   \n",
              "496          46              SM Ervine (ZIM)  2001-2004   42    34   7    698   \n",
              "497          47               PL Symcox (SA)  1993-1999   80    54  13    694   \n",
              "498          48         Rameez Shahzad (UAE)  2016-2018   15    15   2    691   \n",
              "499          49          PAJ DeFreitas (ENG)  1987-1997  103    66  23    690   \n",
              "\n",
              "       HS    Ave     BF     SR  100  50   0  Unnamed: 13  \n",
              "0    200*  44.83  21367  86.23   49  96  20          NaN  \n",
              "1     169  41.98  18048  78.86   25  93  15          NaN  \n",
              "2     164  42.03  17046  80.39   30  82  20          NaN  \n",
              "3     189  32.36  14725  91.20   28  68  34          NaN  \n",
              "4     144  33.37  16020  78.96   19  77  28          NaN  \n",
              "..    ...    ...    ...    ...  ...  ..  ..          ...  \n",
              "495   103  21.24   1151  60.90    1   2   4          NaN  \n",
              "496   100  25.85    816  85.53    1   2   5          NaN  \n",
              "497    61  16.92    830  83.61    0   3   6          NaN  \n",
              "498  121*  53.15    817  84.57    2   4   1          NaN  \n",
              "499    67  16.04    823  83.83    0   1   4          NaN  \n",
              "\n",
              "[500 rows x 15 columns]"
            ],
            "text/html": [
              "\n",
              "  <div id=\"df-2740c3bd-7fde-4f26-9f84-128a23933b9b\">\n",
              "    <div class=\"colab-df-container\">\n",
              "      <div>\n",
              "<style scoped>\n",
              "    .dataframe tbody tr th:only-of-type {\n",
              "        vertical-align: middle;\n",
              "    }\n",
              "\n",
              "    .dataframe tbody tr th {\n",
              "        vertical-align: top;\n",
              "    }\n",
              "\n",
              "    .dataframe thead th {\n",
              "        text-align: right;\n",
              "    }\n",
              "</style>\n",
              "<table border=\"1\" class=\"dataframe\">\n",
              "  <thead>\n",
              "    <tr style=\"text-align: right;\">\n",
              "      <th></th>\n",
              "      <th>Unnamed: 0</th>\n",
              "      <th>Player</th>\n",
              "      <th>Span</th>\n",
              "      <th>Mat</th>\n",
              "      <th>Inns</th>\n",
              "      <th>NO</th>\n",
              "      <th>Runs</th>\n",
              "      <th>HS</th>\n",
              "      <th>Ave</th>\n",
              "      <th>BF</th>\n",
              "      <th>SR</th>\n",
              "      <th>100</th>\n",
              "      <th>50</th>\n",
              "      <th>0</th>\n",
              "      <th>Unnamed: 13</th>\n",
              "    </tr>\n",
              "  </thead>\n",
              "  <tbody>\n",
              "    <tr>\n",
              "      <th>0</th>\n",
              "      <td>0</td>\n",
              "      <td>SR Tendulkar (INDIA)</td>\n",
              "      <td>1989-2012</td>\n",
              "      <td>463</td>\n",
              "      <td>452</td>\n",
              "      <td>41</td>\n",
              "      <td>18426</td>\n",
              "      <td>200*</td>\n",
              "      <td>44.83</td>\n",
              "      <td>21367</td>\n",
              "      <td>86.23</td>\n",
              "      <td>49</td>\n",
              "      <td>96</td>\n",
              "      <td>20</td>\n",
              "      <td>NaN</td>\n",
              "    </tr>\n",
              "    <tr>\n",
              "      <th>1</th>\n",
              "      <td>1</td>\n",
              "      <td>KC Sangakkara (Asia/ICC/SL)</td>\n",
              "      <td>2000-2015</td>\n",
              "      <td>404</td>\n",
              "      <td>380</td>\n",
              "      <td>41</td>\n",
              "      <td>14234</td>\n",
              "      <td>169</td>\n",
              "      <td>41.98</td>\n",
              "      <td>18048</td>\n",
              "      <td>78.86</td>\n",
              "      <td>25</td>\n",
              "      <td>93</td>\n",
              "      <td>15</td>\n",
              "      <td>NaN</td>\n",
              "    </tr>\n",
              "    <tr>\n",
              "      <th>2</th>\n",
              "      <td>2</td>\n",
              "      <td>RT Ponting (AUS/ICC)</td>\n",
              "      <td>1995-2012</td>\n",
              "      <td>375</td>\n",
              "      <td>365</td>\n",
              "      <td>39</td>\n",
              "      <td>13704</td>\n",
              "      <td>164</td>\n",
              "      <td>42.03</td>\n",
              "      <td>17046</td>\n",
              "      <td>80.39</td>\n",
              "      <td>30</td>\n",
              "      <td>82</td>\n",
              "      <td>20</td>\n",
              "      <td>NaN</td>\n",
              "    </tr>\n",
              "    <tr>\n",
              "      <th>3</th>\n",
              "      <td>3</td>\n",
              "      <td>ST Jayasuriya (Asia/SL)</td>\n",
              "      <td>1989-2011</td>\n",
              "      <td>445</td>\n",
              "      <td>433</td>\n",
              "      <td>18</td>\n",
              "      <td>13430</td>\n",
              "      <td>189</td>\n",
              "      <td>32.36</td>\n",
              "      <td>14725</td>\n",
              "      <td>91.20</td>\n",
              "      <td>28</td>\n",
              "      <td>68</td>\n",
              "      <td>34</td>\n",
              "      <td>NaN</td>\n",
              "    </tr>\n",
              "    <tr>\n",
              "      <th>4</th>\n",
              "      <td>4</td>\n",
              "      <td>DPMD Jayawardene (Asia/SL)</td>\n",
              "      <td>1998-2015</td>\n",
              "      <td>448</td>\n",
              "      <td>418</td>\n",
              "      <td>39</td>\n",
              "      <td>12650</td>\n",
              "      <td>144</td>\n",
              "      <td>33.37</td>\n",
              "      <td>16020</td>\n",
              "      <td>78.96</td>\n",
              "      <td>19</td>\n",
              "      <td>77</td>\n",
              "      <td>28</td>\n",
              "      <td>NaN</td>\n",
              "    </tr>\n",
              "    <tr>\n",
              "      <th>...</th>\n",
              "      <td>...</td>\n",
              "      <td>...</td>\n",
              "      <td>...</td>\n",
              "      <td>...</td>\n",
              "      <td>...</td>\n",
              "      <td>...</td>\n",
              "      <td>...</td>\n",
              "      <td>...</td>\n",
              "      <td>...</td>\n",
              "      <td>...</td>\n",
              "      <td>...</td>\n",
              "      <td>...</td>\n",
              "      <td>...</td>\n",
              "      <td>...</td>\n",
              "      <td>...</td>\n",
              "    </tr>\n",
              "    <tr>\n",
              "      <th>495</th>\n",
              "      <td>45</td>\n",
              "      <td>PA Wallace (WI)</td>\n",
              "      <td>1991-2000</td>\n",
              "      <td>33</td>\n",
              "      <td>33</td>\n",
              "      <td>0</td>\n",
              "      <td>701</td>\n",
              "      <td>103</td>\n",
              "      <td>21.24</td>\n",
              "      <td>1151</td>\n",
              "      <td>60.90</td>\n",
              "      <td>1</td>\n",
              "      <td>2</td>\n",
              "      <td>4</td>\n",
              "      <td>NaN</td>\n",
              "    </tr>\n",
              "    <tr>\n",
              "      <th>496</th>\n",
              "      <td>46</td>\n",
              "      <td>SM Ervine (ZIM)</td>\n",
              "      <td>2001-2004</td>\n",
              "      <td>42</td>\n",
              "      <td>34</td>\n",
              "      <td>7</td>\n",
              "      <td>698</td>\n",
              "      <td>100</td>\n",
              "      <td>25.85</td>\n",
              "      <td>816</td>\n",
              "      <td>85.53</td>\n",
              "      <td>1</td>\n",
              "      <td>2</td>\n",
              "      <td>5</td>\n",
              "      <td>NaN</td>\n",
              "    </tr>\n",
              "    <tr>\n",
              "      <th>497</th>\n",
              "      <td>47</td>\n",
              "      <td>PL Symcox (SA)</td>\n",
              "      <td>1993-1999</td>\n",
              "      <td>80</td>\n",
              "      <td>54</td>\n",
              "      <td>13</td>\n",
              "      <td>694</td>\n",
              "      <td>61</td>\n",
              "      <td>16.92</td>\n",
              "      <td>830</td>\n",
              "      <td>83.61</td>\n",
              "      <td>0</td>\n",
              "      <td>3</td>\n",
              "      <td>6</td>\n",
              "      <td>NaN</td>\n",
              "    </tr>\n",
              "    <tr>\n",
              "      <th>498</th>\n",
              "      <td>48</td>\n",
              "      <td>Rameez Shahzad (UAE)</td>\n",
              "      <td>2016-2018</td>\n",
              "      <td>15</td>\n",
              "      <td>15</td>\n",
              "      <td>2</td>\n",
              "      <td>691</td>\n",
              "      <td>121*</td>\n",
              "      <td>53.15</td>\n",
              "      <td>817</td>\n",
              "      <td>84.57</td>\n",
              "      <td>2</td>\n",
              "      <td>4</td>\n",
              "      <td>1</td>\n",
              "      <td>NaN</td>\n",
              "    </tr>\n",
              "    <tr>\n",
              "      <th>499</th>\n",
              "      <td>49</td>\n",
              "      <td>PAJ DeFreitas (ENG)</td>\n",
              "      <td>1987-1997</td>\n",
              "      <td>103</td>\n",
              "      <td>66</td>\n",
              "      <td>23</td>\n",
              "      <td>690</td>\n",
              "      <td>67</td>\n",
              "      <td>16.04</td>\n",
              "      <td>823</td>\n",
              "      <td>83.83</td>\n",
              "      <td>0</td>\n",
              "      <td>1</td>\n",
              "      <td>4</td>\n",
              "      <td>NaN</td>\n",
              "    </tr>\n",
              "  </tbody>\n",
              "</table>\n",
              "<p>500 rows × 15 columns</p>\n",
              "</div>\n",
              "      <button class=\"colab-df-convert\" onclick=\"convertToInteractive('df-2740c3bd-7fde-4f26-9f84-128a23933b9b')\"\n",
              "              title=\"Convert this dataframe to an interactive table.\"\n",
              "              style=\"display:none;\">\n",
              "        \n",
              "  <svg xmlns=\"http://www.w3.org/2000/svg\" height=\"24px\"viewBox=\"0 0 24 24\"\n",
              "       width=\"24px\">\n",
              "    <path d=\"M0 0h24v24H0V0z\" fill=\"none\"/>\n",
              "    <path d=\"M18.56 5.44l.94 2.06.94-2.06 2.06-.94-2.06-.94-.94-2.06-.94 2.06-2.06.94zm-11 1L8.5 8.5l.94-2.06 2.06-.94-2.06-.94L8.5 2.5l-.94 2.06-2.06.94zm10 10l.94 2.06.94-2.06 2.06-.94-2.06-.94-.94-2.06-.94 2.06-2.06.94z\"/><path d=\"M17.41 7.96l-1.37-1.37c-.4-.4-.92-.59-1.43-.59-.52 0-1.04.2-1.43.59L10.3 9.45l-7.72 7.72c-.78.78-.78 2.05 0 2.83L4 21.41c.39.39.9.59 1.41.59.51 0 1.02-.2 1.41-.59l7.78-7.78 2.81-2.81c.8-.78.8-2.07 0-2.86zM5.41 20L4 18.59l7.72-7.72 1.47 1.35L5.41 20z\"/>\n",
              "  </svg>\n",
              "      </button>\n",
              "      \n",
              "  <style>\n",
              "    .colab-df-container {\n",
              "      display:flex;\n",
              "      flex-wrap:wrap;\n",
              "      gap: 12px;\n",
              "    }\n",
              "\n",
              "    .colab-df-convert {\n",
              "      background-color: #E8F0FE;\n",
              "      border: none;\n",
              "      border-radius: 50%;\n",
              "      cursor: pointer;\n",
              "      display: none;\n",
              "      fill: #1967D2;\n",
              "      height: 32px;\n",
              "      padding: 0 0 0 0;\n",
              "      width: 32px;\n",
              "    }\n",
              "\n",
              "    .colab-df-convert:hover {\n",
              "      background-color: #E2EBFA;\n",
              "      box-shadow: 0px 1px 2px rgba(60, 64, 67, 0.3), 0px 1px 3px 1px rgba(60, 64, 67, 0.15);\n",
              "      fill: #174EA6;\n",
              "    }\n",
              "\n",
              "    [theme=dark] .colab-df-convert {\n",
              "      background-color: #3B4455;\n",
              "      fill: #D2E3FC;\n",
              "    }\n",
              "\n",
              "    [theme=dark] .colab-df-convert:hover {\n",
              "      background-color: #434B5C;\n",
              "      box-shadow: 0px 1px 3px 1px rgba(0, 0, 0, 0.15);\n",
              "      filter: drop-shadow(0px 1px 2px rgba(0, 0, 0, 0.3));\n",
              "      fill: #FFFFFF;\n",
              "    }\n",
              "  </style>\n",
              "\n",
              "      <script>\n",
              "        const buttonEl =\n",
              "          document.querySelector('#df-2740c3bd-7fde-4f26-9f84-128a23933b9b button.colab-df-convert');\n",
              "        buttonEl.style.display =\n",
              "          google.colab.kernel.accessAllowed ? 'block' : 'none';\n",
              "\n",
              "        async function convertToInteractive(key) {\n",
              "          const element = document.querySelector('#df-2740c3bd-7fde-4f26-9f84-128a23933b9b');\n",
              "          const dataTable =\n",
              "            await google.colab.kernel.invokeFunction('convertToInteractive',\n",
              "                                                     [key], {});\n",
              "          if (!dataTable) return;\n",
              "\n",
              "          const docLinkHtml = 'Like what you see? Visit the ' +\n",
              "            '<a target=\"_blank\" href=https://colab.research.google.com/notebooks/data_table.ipynb>data table notebook</a>'\n",
              "            + ' to learn more about interactive tables.';\n",
              "          element.innerHTML = '';\n",
              "          dataTable['output_type'] = 'display_data';\n",
              "          await google.colab.output.renderOutput(dataTable, element);\n",
              "          const docLink = document.createElement('div');\n",
              "          docLink.innerHTML = docLinkHtml;\n",
              "          element.appendChild(docLink);\n",
              "        }\n",
              "      </script>\n",
              "    </div>\n",
              "  </div>\n",
              "  "
            ]
          },
          "metadata": {},
          "execution_count": 2
        }
      ]
    },
    {
      "cell_type": "code",
      "source": [
        "Q1 = data.quantile(0.25)\n",
        "Q3 = data.quantile(0.75)\n",
        "IQR = Q3 - Q1\n",
        "data = data[~((data < (Q1 - 1.5 * IQR)) |(data > (Q3 + 1.5 * IQR))).any(axis=1)]# removing outliers in data"
      ],
      "metadata": {
        "colab": {
          "base_uri": "https://localhost:8080/"
        },
        "id": "1LtTDKIUuLpp",
        "outputId": "4942e8c4-c8ac-4617-fb0b-7c8de07927e0"
      },
      "execution_count": 3,
      "outputs": [
        {
          "output_type": "stream",
          "name": "stderr",
          "text": [
            "<ipython-input-3-e13031db987b>:4: FutureWarning: Automatic reindexing on DataFrame vs Series comparisons is deprecated and will raise ValueError in a future version.  Do `left, right = left.align(right, axis=1, copy=False)` before e.g. `left == right`\n",
            "  data = data[~((data < (Q1 - 1.5 * IQR)) |(data > (Q3 + 1.5 * IQR))).any(axis=1)]# removing outliers in data\n"
          ]
        }
      ]
    },
    {
      "cell_type": "code",
      "source": [
        "def get_corr_coef(data, col):\n",
        "  for i in data.columns:\n",
        "    if(i != col):\n",
        "      r = np.corrcoef(data[col], data[i])\n",
        "      print(\"The correlation coefficient of {} and {} is {}\".format(col, i, r[1][0]))"
      ],
      "metadata": {
        "id": "otMZ_22ruXON"
      },
      "execution_count": 4,
      "outputs": []
    },
    {
      "cell_type": "markdown",
      "source": [
        "After obtaining the heatmap, we were able to see that the attributes BF, 100, Inns and 50 are highly correlated with our target that is runs"
      ],
      "metadata": {
        "id": "sPTo6p32zm-9"
      }
    },
    {
      "cell_type": "code",
      "source": [
        "c = data.corr()\n",
        "sns.heatmap(c, annot = True)"
      ],
      "metadata": {
        "colab": {
          "base_uri": "https://localhost:8080/",
          "height": 344
        },
        "id": "dxwjst2pupM8",
        "outputId": "919bdb0d-ecb9-4402-edae-1a49528558f4"
      },
      "execution_count": 5,
      "outputs": [
        {
          "output_type": "execute_result",
          "data": {
            "text/plain": [
              "<matplotlib.axes._subplots.AxesSubplot at 0x7f24aa4a4220>"
            ]
          },
          "metadata": {},
          "execution_count": 5
        },
        {
          "output_type": "display_data",
          "data": {
            "text/plain": [
              "<Figure size 432x288 with 2 Axes>"
            ],
            "image/png": "[encoded data removed]"
          },
          "metadata": {
            "needs_background": "light"
          }
        }
      ]
    },
    {
      "cell_type": "code",
      "source": [
        "import statsmodels.api as sm\n",
        "from sklearn.model_selection import train_test_split\n",
        "x = data[['Mat', 'Inns', 'NO', 'Ave', 'BF', 'SR', '100', '50']]\n",
        "y = data[['Runs']]\n",
        "\n",
        "x_const = sm.add_constant(x)\n",
        "model = sm.OLS(y, x_const) \n",
        "results = model.fit() \n",
        "\n",
        "print('The condition number is ',results.condition_number)\n",
        "p_df=pd.DataFrame({'coef': results.params , 'pvalue': round(results.pvalues,3)})\n",
        "print(\"The attributes with pvalue less than 0.05 are as follows\")\n",
        "p_df[ p_df['pvalue']<0.05 ]\n"
      ],
      "metadata": {
        "colab": {
          "base_uri": "https://localhost:8080/",
          "height": 421
        },
        "id": "sub1LfJeu6BR",
        "outputId": "c790c3e9-a010-4af9-96c3-a1d49ce691b9"
      },
      "execution_count": 6,
      "outputs": [
        {
          "output_type": "stream",
          "name": "stdout",
          "text": [
            "The condition number is  37529.850243661334\n",
            "The attributes with pvalue less than 0.05 are as follows\n"
          ]
        },
        {
          "output_type": "stream",
          "name": "stderr",
          "text": [
            "/usr/local/lib/python3.8/dist-packages/statsmodels/tsa/tsatools.py:142: FutureWarning: In a future version of pandas all arguments of concat except for the argument 'objs' will be keyword-only\n",
            "  x = pd.concat(x[::order], 1)\n"
          ]
        },
        {
          "output_type": "execute_result",
          "data": {
            "text/plain": [
              "             coef  pvalue\n",
              "const -917.726768    0.00\n",
              "Mat     -4.819644    0.00\n",
              "Inns    15.357596    0.00\n",
              "NO       3.208072    0.01\n",
              "Ave      8.128925    0.00\n",
              "BF       0.249601    0.00\n",
              "SR       8.569284    0.00\n",
              "100     70.149887    0.00\n",
              "50      37.113988    0.00"
            ],
            "text/html": [
              "\n",
              "  <div id=\"df-f3690dc5-0178-4b26-ae95-0892c54286ef\">\n",
              "    <div class=\"colab-df-container\">\n",
              "      <div>\n",
              "<style scoped>\n",
              "    .dataframe tbody tr th:only-of-type {\n",
              "        vertical-align: middle;\n",
              "    }\n",
              "\n",
              "    .dataframe tbody tr th {\n",
              "        vertical-align: top;\n",
              "    }\n",
              "\n",
              "    .dataframe thead th {\n",
              "        text-align: right;\n",
              "    }\n",
              "</style>\n",
              "<table border=\"1\" class=\"dataframe\">\n",
              "  <thead>\n",
              "    <tr style=\"text-align: right;\">\n",
              "      <th></th>\n",
              "      <th>coef</th>\n",
              "      <th>pvalue</th>\n",
              "    </tr>\n",
              "  </thead>\n",
              "  <tbody>\n",
              "    <tr>\n",
              "      <th>const</th>\n",
              "      <td>-917.726768</td>\n",
              "      <td>0.00</td>\n",
              "    </tr>\n",
              "    <tr>\n",
              "      <th>Mat</th>\n",
              "      <td>-4.819644</td>\n",
              "      <td>0.00</td>\n",
              "    </tr>\n",
              "    <tr>\n",
              "      <th>Inns</th>\n",
              "      <td>15.357596</td>\n",
              "      <td>0.00</td>\n",
              "    </tr>\n",
              "    <tr>\n",
              "      <th>NO</th>\n",
              "      <td>3.208072</td>\n",
              "      <td>0.01</td>\n",
              "    </tr>\n",
              "    <tr>\n",
              "      <th>Ave</th>\n",
              "      <td>8.128925</td>\n",
              "      <td>0.00</td>\n",
              "    </tr>\n",
              "    <tr>\n",
              "      <th>BF</th>\n",
              "      <td>0.249601</td>\n",
              "      <td>0.00</td>\n",
              "    </tr>\n",
              "    <tr>\n",
              "      <th>SR</th>\n",
              "      <td>8.569284</td>\n",
              "      <td>0.00</td>\n",
              "    </tr>\n",
              "    <tr>\n",
              "      <th>100</th>\n",
              "      <td>70.149887</td>\n",
              "      <td>0.00</td>\n",
              "    </tr>\n",
              "    <tr>\n",
              "      <th>50</th>\n",
              "      <td>37.113988</td>\n",
              "      <td>0.00</td>\n",
              "    </tr>\n",
              "  </tbody>\n",
              "</table>\n",
              "</div>\n",
              "      <button class=\"colab-df-convert\" onclick=\"convertToInteractive('df-f3690dc5-0178-4b26-ae95-0892c54286ef')\"\n",
              "              title=\"Convert this dataframe to an interactive table.\"\n",
              "              style=\"display:none;\">\n",
              "        \n",
              "  <svg xmlns=\"http://www.w3.org/2000/svg\" height=\"24px\"viewBox=\"0 0 24 24\"\n",
              "       width=\"24px\">\n",
              "    <path d=\"M0 0h24v24H0V0z\" fill=\"none\"/>\n",
              "    <path d=\"M18.56 5.44l.94 2.06.94-2.06 2.06-.94-2.06-.94-.94-2.06-.94 2.06-2.06.94zm-11 1L8.5 8.5l.94-2.06 2.06-.94-2.06-.94L8.5 2.5l-.94 2.06-2.06.94zm10 10l.94 2.06.94-2.06 2.06-.94-2.06-.94-.94-2.06-.94 2.06-2.06.94z\"/><path d=\"M17.41 7.96l-1.37-1.37c-.4-.4-.92-.59-1.43-.59-.52 0-1.04.2-1.43.59L10.3 9.45l-7.72 7.72c-.78.78-.78 2.05 0 2.83L4 21.41c.39.39.9.59 1.41.59.51 0 1.02-.2 1.41-.59l7.78-7.78 2.81-2.81c.8-.78.8-2.07 0-2.86zM5.41 20L4 18.59l7.72-7.72 1.47 1.35L5.41 20z\"/>\n",
              "  </svg>\n",
              "      </button>\n",
              "      \n",
              "  <style>\n",
              "    .colab-df-container {\n",
              "      display:flex;\n",
              "      flex-wrap:wrap;\n",
              "      gap: 12px;\n",
              "    }\n",
              "\n",
              "    .colab-df-convert {\n",
              "      background-color: #E8F0FE;\n",
              "      border: none;\n",
              "      border-radius: 50%;\n",
              "      cursor: pointer;\n",
              "      display: none;\n",
              "      fill: #1967D2;\n",
              "      height: 32px;\n",
              "      padding: 0 0 0 0;\n",
              "      width: 32px;\n",
              "    }\n",
              "\n",
              "    .colab-df-convert:hover {\n",
              "      background-color: #E2EBFA;\n",
              "      box-shadow: 0px 1px 2px rgba(60, 64, 67, 0.3), 0px 1px 3px 1px rgba(60, 64, 67, 0.15);\n",
              "      fill: #174EA6;\n",
              "    }\n",
              "\n",
              "    [theme=dark] .colab-df-convert {\n",
              "      background-color: #3B4455;\n",
              "      fill: #D2E3FC;\n",
              "    }\n",
              "\n",
              "    [theme=dark] .colab-df-convert:hover {\n",
              "      background-color: #434B5C;\n",
              "      box-shadow: 0px 1px 3px 1px rgba(0, 0, 0, 0.15);\n",
              "      filter: drop-shadow(0px 1px 2px rgba(0, 0, 0, 0.3));\n",
              "      fill: #FFFFFF;\n",
              "    }\n",
              "  </style>\n",
              "\n",
              "      <script>\n",
              "        const buttonEl =\n",
              "          document.querySelector('#df-f3690dc5-0178-4b26-ae95-0892c54286ef button.colab-df-convert');\n",
              "        buttonEl.style.display =\n",
              "          google.colab.kernel.accessAllowed ? 'block' : 'none';\n",
              "\n",
              "        async function convertToInteractive(key) {\n",
              "          const element = document.querySelector('#df-f3690dc5-0178-4b26-ae95-0892c54286ef');\n",
              "          const dataTable =\n",
              "            await google.colab.kernel.invokeFunction('convertToInteractive',\n",
              "                                                     [key], {});\n",
              "          if (!dataTable) return;\n",
              "\n",
              "          const docLinkHtml = 'Like what you see? Visit the ' +\n",
              "            '<a target=\"_blank\" href=https://colab.research.google.com/notebooks/data_table.ipynb>data table notebook</a>'\n",
              "            + ' to learn more about interactive tables.';\n",
              "          element.innerHTML = '';\n",
              "          dataTable['output_type'] = 'display_data';\n",
              "          await google.colab.output.renderOutput(dataTable, element);\n",
              "          const docLink = document.createElement('div');\n",
              "          docLink.innerHTML = docLinkHtml;\n",
              "          element.appendChild(docLink);\n",
              "        }\n",
              "      </script>\n",
              "    </div>\n",
              "  </div>\n",
              "  "
            ]
          },
          "metadata": {},
          "execution_count": 6
        }
      ]
    },
    {
      "cell_type": "markdown",
      "source": [
        "There exists multicollinearaity as the condition no. is high and the attributes Mat, Inns, NO, Ave, BF, SR, 100 and 50 have p value less than 0.05"
      ],
      "metadata": {
        "id": "ltKm6qR70Prh"
      }
    },
    {
      "cell_type": "markdown",
      "source": [
        "**First Model**"
      ],
      "metadata": {
        "id": "I4cYEXA10r1l"
      }
    },
    {
      "cell_type": "code",
      "source": [
        "df1 = data[data.iloc[:,0]<=45]  \n",
        "df2 = data[data.iloc[:,0]>45]  \n",
        "\n",
        "x = data[['Mat', 'Inns', 'NO', 'Ave', 'BF', 'SR', '100', '50']]\n",
        "y = data['Runs']\n",
        "\n",
        "x_train = df1[['Mat', 'Inns', 'NO', 'Ave', 'BF', 'SR', '100', '50']]\n",
        "y_train = df1['Runs']\n",
        "x_test = df2[['Mat', 'Inns', 'NO', 'Ave', 'BF', 'SR', '100', '50']]\n",
        "y_test = df2['Runs']\n",
        "\n",
        "print('shape of df1 = ',df1.shape)\n",
        "print('shape of df2 = ',df2.shape)"
      ],
      "metadata": {
        "colab": {
          "base_uri": "https://localhost:8080/"
        },
        "id": "KEdDbeI5vy2e",
        "outputId": "ecf4ed20-6f14-4442-dd90-a8ca51675a43"
      },
      "execution_count": 7,
      "outputs": [
        {
          "output_type": "stream",
          "name": "stdout",
          "text": [
            "shape of df1 =  (374, 15)\n",
            "shape of df2 =  (35, 15)\n"
          ]
        }
      ]
    },
    {
      "cell_type": "code",
      "source": [
        "from sklearn.linear_model import LinearRegression\n",
        "lr = LinearRegression()  \n",
        "lr.fit(x_train, y_train)\n",
        "\n",
        "print(\"Intercept: \", lr.intercept_)\n",
        "print(\"Coefficients:\")\n",
        "print(list(zip(x, lr.coef_)))\n",
        "\n",
        "y_pred_lr= lr.predict(x_test)"
      ],
      "metadata": {
        "colab": {
          "base_uri": "https://localhost:8080/"
        },
        "id": "JKoKRJ6gvzz9",
        "outputId": "e19de1ed-f1f5-48dd-9825-0c046e569436"
      },
      "execution_count": 8,
      "outputs": [
        {
          "output_type": "stream",
          "name": "stdout",
          "text": [
            "Intercept:  -913.9194845312832\n",
            "Coefficients:\n",
            "[('Mat', -4.56998242760086), ('Inns', 15.191214376342932), ('NO', 3.115383562222389), ('Ave', 8.600973524406257), ('BF', 0.2474408429144983), ('SR', 8.37218100677353), ('100', 70.81668592840758), ('50', 36.803316352383284)]\n"
          ]
        }
      ]
    },
    {
      "cell_type": "code",
      "source": [
        "lr_diff = pd.DataFrame({'Actual value': y_test, 'Predicted value': y_pred_lr})\n",
        "lr_diff.head()"
      ],
      "metadata": {
        "colab": {
          "base_uri": "https://localhost:8080/",
          "height": 206
        },
        "id": "paoFb97Lw2FP",
        "outputId": "f7c4eee7-820e-4037-c6a0-c12d8f7a23c1"
      },
      "execution_count": 9,
      "outputs": [
        {
          "output_type": "execute_result",
          "data": {
            "text/plain": [
              "     Actual value  Predicted value\n",
              "97           4483      4399.120829\n",
              "98           4440      4314.801647\n",
              "99           4413      4526.865408\n",
              "146          3170      3151.133814\n",
              "147          3143      3115.074757"
            ],
            "text/html": [
              "\n",
              "  <div id=\"df-42ae5483-99f0-45bb-b621-0708040cf640\">\n",
              "    <div class=\"colab-df-container\">\n",
              "      <div>\n",
              "<style scoped>\n",
              "    .dataframe tbody tr th:only-of-type {\n",
              "        vertical-align: middle;\n",
              "    }\n",
              "\n",
              "    .dataframe tbody tr th {\n",
              "        vertical-align: top;\n",
              "    }\n",
              "\n",
              "    .dataframe thead th {\n",
              "        text-align: right;\n",
              "    }\n",
              "</style>\n",
              "<table border=\"1\" class=\"dataframe\">\n",
              "  <thead>\n",
              "    <tr style=\"text-align: right;\">\n",
              "      <th></th>\n",
              "      <th>Actual value</th>\n",
              "      <th>Predicted value</th>\n",
              "    </tr>\n",
              "  </thead>\n",
              "  <tbody>\n",
              "    <tr>\n",
              "      <th>97</th>\n",
              "      <td>4483</td>\n",
              "      <td>4399.120829</td>\n",
              "    </tr>\n",
              "    <tr>\n",
              "      <th>98</th>\n",
              "      <td>4440</td>\n",
              "      <td>4314.801647</td>\n",
              "    </tr>\n",
              "    <tr>\n",
              "      <th>99</th>\n",
              "      <td>4413</td>\n",
              "      <td>4526.865408</td>\n",
              "    </tr>\n",
              "    <tr>\n",
              "      <th>146</th>\n",
              "      <td>3170</td>\n",
              "      <td>3151.133814</td>\n",
              "    </tr>\n",
              "    <tr>\n",
              "      <th>147</th>\n",
              "      <td>3143</td>\n",
              "      <td>3115.074757</td>\n",
              "    </tr>\n",
              "  </tbody>\n",
              "</table>\n",
              "</div>\n",
              "      <button class=\"colab-df-convert\" onclick=\"convertToInteractive('df-42ae5483-99f0-45bb-b621-0708040cf640')\"\n",
              "              title=\"Convert this dataframe to an interactive table.\"\n",
              "              style=\"display:none;\">\n",
              "        \n",
              "  <svg xmlns=\"http://www.w3.org/2000/svg\" height=\"24px\"viewBox=\"0 0 24 24\"\n",
              "       width=\"24px\">\n",
              "    <path d=\"M0 0h24v24H0V0z\" fill=\"none\"/>\n",
              "    <path d=\"M18.56 5.44l.94 2.06.94-2.06 2.06-.94-2.06-.94-.94-2.06-.94 2.06-2.06.94zm-11 1L8.5 8.5l.94-2.06 2.06-.94-2.06-.94L8.5 2.5l-.94 2.06-2.06.94zm10 10l.94 2.06.94-2.06 2.06-.94-2.06-.94-.94-2.06-.94 2.06-2.06.94z\"/><path d=\"M17.41 7.96l-1.37-1.37c-.4-.4-.92-.59-1.43-.59-.52 0-1.04.2-1.43.59L10.3 9.45l-7.72 7.72c-.78.78-.78 2.05 0 2.83L4 21.41c.39.39.9.59 1.41.59.51 0 1.02-.2 1.41-.59l7.78-7.78 2.81-2.81c.8-.78.8-2.07 0-2.86zM5.41 20L4 18.59l7.72-7.72 1.47 1.35L5.41 20z\"/>\n",
              "  </svg>\n",
              "      </button>\n",
              "      \n",
              "  <style>\n",
              "    .colab-df-container {\n",
              "      display:flex;\n",
              "      flex-wrap:wrap;\n",
              "      gap: 12px;\n",
              "    }\n",
              "\n",
              "    .colab-df-convert {\n",
              "      background-color: #E8F0FE;\n",
              "      border: none;\n",
              "      border-radius: 50%;\n",
              "      cursor: pointer;\n",
              "      display: none;\n",
              "      fill: #1967D2;\n",
              "      height: 32px;\n",
              "      padding: 0 0 0 0;\n",
              "      width: 32px;\n",
              "    }\n",
              "\n",
              "    .colab-df-convert:hover {\n",
              "      background-color: #E2EBFA;\n",
              "      box-shadow: 0px 1px 2px rgba(60, 64, 67, 0.3), 0px 1px 3px 1px rgba(60, 64, 67, 0.15);\n",
              "      fill: #174EA6;\n",
              "    }\n",
              "\n",
              "    [theme=dark] .colab-df-convert {\n",
              "      background-color: #3B4455;\n",
              "      fill: #D2E3FC;\n",
              "    }\n",
              "\n",
              "    [theme=dark] .colab-df-convert:hover {\n",
              "      background-color: #434B5C;\n",
              "      box-shadow: 0px 1px 3px 1px rgba(0, 0, 0, 0.15);\n",
              "      filter: drop-shadow(0px 1px 2px rgba(0, 0, 0, 0.3));\n",
              "      fill: #FFFFFF;\n",
              "    }\n",
              "  </style>\n",
              "\n",
              "      <script>\n",
              "        const buttonEl =\n",
              "          document.querySelector('#df-42ae5483-99f0-45bb-b621-0708040cf640 button.colab-df-convert');\n",
              "        buttonEl.style.display =\n",
              "          google.colab.kernel.accessAllowed ? 'block' : 'none';\n",
              "\n",
              "        async function convertToInteractive(key) {\n",
              "          const element = document.querySelector('#df-42ae5483-99f0-45bb-b621-0708040cf640');\n",
              "          const dataTable =\n",
              "            await google.colab.kernel.invokeFunction('convertToInteractive',\n",
              "                                                     [key], {});\n",
              "          if (!dataTable) return;\n",
              "\n",
              "          const docLinkHtml = 'Like what you see? Visit the ' +\n",
              "            '<a target=\"_blank\" href=https://colab.research.google.com/notebooks/data_table.ipynb>data table notebook</a>'\n",
              "            + ' to learn more about interactive tables.';\n",
              "          element.innerHTML = '';\n",
              "          dataTable['output_type'] = 'display_data';\n",
              "          await google.colab.output.renderOutput(dataTable, element);\n",
              "          const docLink = document.createElement('div');\n",
              "          docLink.innerHTML = docLinkHtml;\n",
              "          element.appendChild(docLink);\n",
              "        }\n",
              "      </script>\n",
              "    </div>\n",
              "  </div>\n",
              "  "
            ]
          },
          "metadata": {},
          "execution_count": 9
        }
      ]
    },
    {
      "cell_type": "code",
      "source": [
        "from sklearn import metrics\n",
        "meanAbErr = metrics.mean_absolute_error(y_test, y_pred_lr)\n",
        "meanSqErr = metrics.mean_squared_error(y_test, y_pred_lr)\n",
        "rootMeanSqErr = np.sqrt(metrics.mean_squared_error(y_test, y_pred_lr))\n",
        "print('R squared: ',lr.score(x,y)*100)\n",
        "print('Mean Absolute Error:', meanAbErr)\n",
        "print('Mean Square Error:', meanSqErr)\n",
        "print('Root Mean Square Error:', rootMeanSqErr)"
      ],
      "metadata": {
        "colab": {
          "base_uri": "https://localhost:8080/"
        },
        "id": "butGEwY5w8tl",
        "outputId": "663743a3-4d86-4e67-ed1c-aa5f49176c2a"
      },
      "execution_count": 10,
      "outputs": [
        {
          "output_type": "stream",
          "name": "stdout",
          "text": [
            "R squared:  99.39424667074343\n",
            "Mean Absolute Error: 80.8404404717178\n",
            "Mean Square Error: 11195.938771354859\n",
            "Root Mean Square Error: 105.81086320106674\n"
          ]
        }
      ]
    },
    {
      "cell_type": "code",
      "source": [
        "get_corr_coef(data= x_train, col='Inns')"
      ],
      "metadata": {
        "colab": {
          "base_uri": "https://localhost:8080/"
        },
        "id": "fOnLqGFxxABi",
        "outputId": "51e63788-16b8-48c6-f18f-5cf427ddb600"
      },
      "execution_count": 11,
      "outputs": [
        {
          "output_type": "stream",
          "name": "stdout",
          "text": [
            "The correlation coefficient of Inns and Mat is 0.9627632304182915\n",
            "The correlation coefficient of Inns and NO is 0.6794758446381413\n",
            "The correlation coefficient of Inns and Ave is 0.05675743476008996\n",
            "The correlation coefficient of Inns and BF is 0.8794940530064446\n",
            "The correlation coefficient of Inns and SR is 0.03139124710720164\n",
            "The correlation coefficient of Inns and 100 is 0.5110367138760545\n",
            "The correlation coefficient of Inns and 50 is 0.7792982572146281\n"
          ]
        }
      ]
    },
    {
      "cell_type": "markdown",
      "source": [
        "Inns is highly correlated with NO Mat BF 50 with correlation coefficient more than 0.65"
      ],
      "metadata": {
        "id": "JZy_lUdN04AX"
      }
    },
    {
      "cell_type": "code",
      "source": [
        "get_corr_coef(data= x_train, col='100')"
      ],
      "metadata": {
        "colab": {
          "base_uri": "https://localhost:8080/"
        },
        "id": "pJtaRI7exdwp",
        "outputId": "894c8bbd-d66c-46a2-8770-3086b619ed9e"
      },
      "execution_count": 12,
      "outputs": [
        {
          "output_type": "stream",
          "name": "stdout",
          "text": [
            "The correlation coefficient of 100 and Mat is 0.3969877434993752\n",
            "The correlation coefficient of 100 and Inns is 0.5110367138760544\n",
            "The correlation coefficient of 100 and NO is 0.10634502421556982\n",
            "The correlation coefficient of 100 and Ave is 0.5936373556774897\n",
            "The correlation coefficient of 100 and BF is 0.6826378708339351\n",
            "The correlation coefficient of 100 and SR is 0.1552915519338056\n",
            "The correlation coefficient of 100 and 50 is 0.6720988543882299\n"
          ]
        }
      ]
    },
    {
      "cell_type": "markdown",
      "source": [
        "100 is highly correlated with BF 50 "
      ],
      "metadata": {
        "id": "YFjm-ChM1I08"
      }
    },
    {
      "cell_type": "markdown",
      "source": [
        "**Second Model**"
      ],
      "metadata": {
        "id": "CSQCJntS1XuJ"
      }
    },
    {
      "cell_type": "code",
      "source": [
        "x_train_1 = df1[['Inns', 'BF', '100', '50']]\n",
        "y_train_1 = df1['Runs']\n",
        "x_test_1 = df2[['Inns', 'BF', '100', '50']]\n",
        "y_test_1 = df2['Runs']\n",
        "x_1 = data[['Inns', 'BF', '100', '50']]\n",
        "y_1 = data[['Runs']]"
      ],
      "metadata": {
        "id": "JPjKHv0QyTbd"
      },
      "execution_count": 13,
      "outputs": []
    },
    {
      "cell_type": "code",
      "source": [
        "X2_train_1 = sm.add_constant(x_train_1)\n",
        "est_train_1 = sm.OLS(y_train_1, X2_train_1)\n",
        "est2_1 = est_train_1.fit()\n",
        "print(est2_1.summary())"
      ],
      "metadata": {
        "colab": {
          "base_uri": "https://localhost:8080/"
        },
        "id": "g9Mniy5SyliG",
        "outputId": "987aa852-fd07-4cf9-a44a-775e32fcbd5a"
      },
      "execution_count": 14,
      "outputs": [
        {
          "output_type": "stream",
          "name": "stdout",
          "text": [
            "                            OLS Regression Results                            \n",
            "==============================================================================\n",
            "Dep. Variable:                   Runs   R-squared:                       0.989\n",
            "Model:                            OLS   Adj. R-squared:                  0.989\n",
            "Method:                 Least Squares   F-statistic:                     8588.\n",
            "Date:                Sun, 25 Dec 2022   Prob (F-statistic):               0.00\n",
            "Time:                        15:00:47   Log-Likelihood:                -2405.4\n",
            "No. Observations:                 374   AIC:                             4821.\n",
            "Df Residuals:                     369   BIC:                             4840.\n",
            "Df Model:                           4                                         \n",
            "Covariance Type:            nonrobust                                         \n",
            "==============================================================================\n",
            "                 coef    std err          t      P>|t|      [0.025      0.975]\n",
            "------------------------------------------------------------------------------\n",
            "const        -39.2935     15.741     -2.496      0.013     -70.248      -8.339\n",
            "Inns          10.5989      0.370     28.684      0.000       9.872      11.326\n",
            "BF             0.1396      0.016      8.836      0.000       0.109       0.171\n",
            "100          107.3048      4.706     22.803      0.000      98.051     116.558\n",
            "50            56.5479      2.302     24.566      0.000      52.021      61.074\n",
            "==============================================================================\n",
            "Omnibus:                       11.384   Durbin-Watson:                   2.076\n",
            "Prob(Omnibus):                  0.003   Jarque-Bera (JB):               14.463\n",
            "Skew:                          -0.284   Prob(JB):                     0.000724\n",
            "Kurtosis:                       3.778   Cond. No.                     6.98e+03\n",
            "==============================================================================\n",
            "\n",
            "Notes:\n",
            "[1] Standard Errors assume that the covariance matrix of the errors is correctly specified.\n",
            "[2] The condition number is large, 6.98e+03. This might indicate that there are\n",
            "strong multicollinearity or other numerical problems.\n"
          ]
        },
        {
          "output_type": "stream",
          "name": "stderr",
          "text": [
            "/usr/local/lib/python3.8/dist-packages/statsmodels/tsa/tsatools.py:142: FutureWarning: In a future version of pandas all arguments of concat except for the argument 'objs' will be keyword-only\n",
            "  x = pd.concat(x[::order], 1)\n"
          ]
        }
      ]
    },
    {
      "cell_type": "code",
      "source": [
        "import statsmodels.api as sm\n",
        "from sklearn.model_selection import train_test_split\n",
        "# If p-value < 0.05 -->Significant\n",
        "# If p-value > 0.05 -->Not Significant\n",
        "\n",
        "x_const = sm.add_constant(x_1)\n",
        "model = sm.OLS(y_1, x_const) \n",
        "results = model.fit() \n",
        "\n",
        "print('The condition number is ',results.condition_number)\n",
        "p_df=pd.DataFrame({'coef': results.params , 'pvalue': round(results.pvalues,3)})\n",
        "print(\"The attributes with pvalue less than 0.05 are as follows\")\n",
        "p_df[ p_df['pvalue']<0.05 ]\n",
        "     "
      ],
      "metadata": {
        "colab": {
          "base_uri": "https://localhost:8080/",
          "height": 296
        },
        "id": "PtXWIAIayqqK",
        "outputId": "4e5da52d-1a75-4d92-eba8-76d3d5808c1a"
      },
      "execution_count": 15,
      "outputs": [
        {
          "output_type": "stream",
          "name": "stderr",
          "text": [
            "/usr/local/lib/python3.8/dist-packages/statsmodels/tsa/tsatools.py:142: FutureWarning: In a future version of pandas all arguments of concat except for the argument 'objs' will be keyword-only\n",
            "  x = pd.concat(x[::order], 1)\n"
          ]
        },
        {
          "output_type": "stream",
          "name": "stdout",
          "text": [
            "The condition number is  6929.318975530079\n",
            "The attributes with pvalue less than 0.05 are as follows\n"
          ]
        },
        {
          "output_type": "execute_result",
          "data": {
            "text/plain": [
              "             coef  pvalue\n",
              "const  -37.413560   0.015\n",
              "Inns    10.251909   0.000\n",
              "BF       0.144480   0.000\n",
              "100    106.406162   0.000\n",
              "50      57.298460   0.000"
            ],
            "text/html": [
              "\n",
              "  <div id=\"df-5546e2dd-3055-48ab-977b-4eb0db83ae6c\">\n",
              "    <div class=\"colab-df-container\">\n",
              "      <div>\n",
              "<style scoped>\n",
              "    .dataframe tbody tr th:only-of-type {\n",
              "        vertical-align: middle;\n",
              "    }\n",
              "\n",
              "    .dataframe tbody tr th {\n",
              "        vertical-align: top;\n",
              "    }\n",
              "\n",
              "    .dataframe thead th {\n",
              "        text-align: right;\n",
              "    }\n",
              "</style>\n",
              "<table border=\"1\" class=\"dataframe\">\n",
              "  <thead>\n",
              "    <tr style=\"text-align: right;\">\n",
              "      <th></th>\n",
              "      <th>coef</th>\n",
              "      <th>pvalue</th>\n",
              "    </tr>\n",
              "  </thead>\n",
              "  <tbody>\n",
              "    <tr>\n",
              "      <th>const</th>\n",
              "      <td>-37.413560</td>\n",
              "      <td>0.015</td>\n",
              "    </tr>\n",
              "    <tr>\n",
              "      <th>Inns</th>\n",
              "      <td>10.251909</td>\n",
              "      <td>0.000</td>\n",
              "    </tr>\n",
              "    <tr>\n",
              "      <th>BF</th>\n",
              "      <td>0.144480</td>\n",
              "      <td>0.000</td>\n",
              "    </tr>\n",
              "    <tr>\n",
              "      <th>100</th>\n",
              "      <td>106.406162</td>\n",
              "      <td>0.000</td>\n",
              "    </tr>\n",
              "    <tr>\n",
              "      <th>50</th>\n",
              "      <td>57.298460</td>\n",
              "      <td>0.000</td>\n",
              "    </tr>\n",
              "  </tbody>\n",
              "</table>\n",
              "</div>\n",
              "      <button class=\"colab-df-convert\" onclick=\"convertToInteractive('df-5546e2dd-3055-48ab-977b-4eb0db83ae6c')\"\n",
              "              title=\"Convert this dataframe to an interactive table.\"\n",
              "              style=\"display:none;\">\n",
              "        \n",
              "  <svg xmlns=\"http://www.w3.org/2000/svg\" height=\"24px\"viewBox=\"0 0 24 24\"\n",
              "       width=\"24px\">\n",
              "    <path d=\"M0 0h24v24H0V0z\" fill=\"none\"/>\n",
              "    <path d=\"M18.56 5.44l.94 2.06.94-2.06 2.06-.94-2.06-.94-.94-2.06-.94 2.06-2.06.94zm-11 1L8.5 8.5l.94-2.06 2.06-.94-2.06-.94L8.5 2.5l-.94 2.06-2.06.94zm10 10l.94 2.06.94-2.06 2.06-.94-2.06-.94-.94-2.06-.94 2.06-2.06.94z\"/><path d=\"M17.41 7.96l-1.37-1.37c-.4-.4-.92-.59-1.43-.59-.52 0-1.04.2-1.43.59L10.3 9.45l-7.72 7.72c-.78.78-.78 2.05 0 2.83L4 21.41c.39.39.9.59 1.41.59.51 0 1.02-.2 1.41-.59l7.78-7.78 2.81-2.81c.8-.78.8-2.07 0-2.86zM5.41 20L4 18.59l7.72-7.72 1.47 1.35L5.41 20z\"/>\n",
              "  </svg>\n",
              "      </button>\n",
              "      \n",
              "  <style>\n",
              "    .colab-df-container {\n",
              "      display:flex;\n",
              "      flex-wrap:wrap;\n",
              "      gap: 12px;\n",
              "    }\n",
              "\n",
              "    .colab-df-convert {\n",
              "      background-color: #E8F0FE;\n",
              "      border: none;\n",
              "      border-radius: 50%;\n",
              "      cursor: pointer;\n",
              "      display: none;\n",
              "      fill: #1967D2;\n",
              "      height: 32px;\n",
              "      padding: 0 0 0 0;\n",
              "      width: 32px;\n",
              "    }\n",
              "\n",
              "    .colab-df-convert:hover {\n",
              "      background-color: #E2EBFA;\n",
              "      box-shadow: 0px 1px 2px rgba(60, 64, 67, 0.3), 0px 1px 3px 1px rgba(60, 64, 67, 0.15);\n",
              "      fill: #174EA6;\n",
              "    }\n",
              "\n",
              "    [theme=dark] .colab-df-convert {\n",
              "      background-color: #3B4455;\n",
              "      fill: #D2E3FC;\n",
              "    }\n",
              "\n",
              "    [theme=dark] .colab-df-convert:hover {\n",
              "      background-color: #434B5C;\n",
              "      box-shadow: 0px 1px 3px 1px rgba(0, 0, 0, 0.15);\n",
              "      filter: drop-shadow(0px 1px 2px rgba(0, 0, 0, 0.3));\n",
              "      fill: #FFFFFF;\n",
              "    }\n",
              "  </style>\n",
              "\n",
              "      <script>\n",
              "        const buttonEl =\n",
              "          document.querySelector('#df-5546e2dd-3055-48ab-977b-4eb0db83ae6c button.colab-df-convert');\n",
              "        buttonEl.style.display =\n",
              "          google.colab.kernel.accessAllowed ? 'block' : 'none';\n",
              "\n",
              "        async function convertToInteractive(key) {\n",
              "          const element = document.querySelector('#df-5546e2dd-3055-48ab-977b-4eb0db83ae6c');\n",
              "          const dataTable =\n",
              "            await google.colab.kernel.invokeFunction('convertToInteractive',\n",
              "                                                     [key], {});\n",
              "          if (!dataTable) return;\n",
              "\n",
              "          const docLinkHtml = 'Like what you see? Visit the ' +\n",
              "            '<a target=\"_blank\" href=https://colab.research.google.com/notebooks/data_table.ipynb>data table notebook</a>'\n",
              "            + ' to learn more about interactive tables.';\n",
              "          element.innerHTML = '';\n",
              "          dataTable['output_type'] = 'display_data';\n",
              "          await google.colab.output.renderOutput(dataTable, element);\n",
              "          const docLink = document.createElement('div');\n",
              "          docLink.innerHTML = docLinkHtml;\n",
              "          element.appendChild(docLink);\n",
              "        }\n",
              "      </script>\n",
              "    </div>\n",
              "  </div>\n",
              "  "
            ]
          },
          "metadata": {},
          "execution_count": 15
        }
      ]
    },
    {
      "cell_type": "code",
      "source": [
        "from sklearn.linear_model import LinearRegression\n",
        "lr = LinearRegression()  \n",
        "lr.fit(x_train_1, y_train_1)"
      ],
      "metadata": {
        "colab": {
          "base_uri": "https://localhost:8080/"
        },
        "id": "Qm15H5THy6C6",
        "outputId": "57a44283-201d-4999-aaf6-d47353f3ed70"
      },
      "execution_count": 16,
      "outputs": [
        {
          "output_type": "execute_result",
          "data": {
            "text/plain": [
              "LinearRegression()"
            ]
          },
          "metadata": {},
          "execution_count": 16
        }
      ]
    },
    {
      "cell_type": "code",
      "source": [
        "print(\"Intercept: \", lr.intercept_)\n",
        "print(\"Coefficients:\")\n",
        "print(list(zip(x_1, lr.coef_)))\n",
        "\n",
        "#Prediction of test set\n",
        "y_pred_lr_1= lr.predict(x_test_1)"
      ],
      "metadata": {
        "colab": {
          "base_uri": "https://localhost:8080/"
        },
        "id": "-lNRHh5Py-Uh",
        "outputId": "8933838d-11d6-4e8a-ec26-fcc80bc11be0"
      },
      "execution_count": 17,
      "outputs": [
        {
          "output_type": "stream",
          "name": "stdout",
          "text": [
            "Intercept:  -39.29345047191373\n",
            "Coefficients:\n",
            "[('Inns', 10.598936914967902), ('BF', 0.13962584254009297), ('100', 107.30479773322874), ('50', 56.54786754865236)]\n"
          ]
        }
      ]
    },
    {
      "cell_type": "code",
      "source": [
        "lr_diff_1 = pd.DataFrame({'Actual value': y_test_1, 'Predicted value': y_pred_lr_1})\n",
        "lr_diff_1.head()"
      ],
      "metadata": {
        "colab": {
          "base_uri": "https://localhost:8080/",
          "height": 206
        },
        "id": "LdhREiBWzBoE",
        "outputId": "94bab4a2-9939-4613-b4f8-8646ca4945f3"
      },
      "execution_count": 18,
      "outputs": [
        {
          "output_type": "execute_result",
          "data": {
            "text/plain": [
              "     Actual value  Predicted value\n",
              "97           4483      4467.882756\n",
              "98           4440      4381.014853\n",
              "99           4413      4700.371911\n",
              "146          3170      3155.838346\n",
              "147          3143      3094.546624"
            ],
            "text/html": [
              "\n",
              "  <div id=\"df-90062792-c3f9-47eb-b60b-67b9662899fb\">\n",
              "    <div class=\"colab-df-container\">\n",
              "      <div>\n",
              "<style scoped>\n",
              "    .dataframe tbody tr th:only-of-type {\n",
              "        vertical-align: middle;\n",
              "    }\n",
              "\n",
              "    .dataframe tbody tr th {\n",
              "        vertical-align: top;\n",
              "    }\n",
              "\n",
              "    .dataframe thead th {\n",
              "        text-align: right;\n",
              "    }\n",
              "</style>\n",
              "<table border=\"1\" class=\"dataframe\">\n",
              "  <thead>\n",
              "    <tr style=\"text-align: right;\">\n",
              "      <th></th>\n",
              "      <th>Actual value</th>\n",
              "      <th>Predicted value</th>\n",
              "    </tr>\n",
              "  </thead>\n",
              "  <tbody>\n",
              "    <tr>\n",
              "      <th>97</th>\n",
              "      <td>4483</td>\n",
              "      <td>4467.882756</td>\n",
              "    </tr>\n",
              "    <tr>\n",
              "      <th>98</th>\n",
              "      <td>4440</td>\n",
              "      <td>4381.014853</td>\n",
              "    </tr>\n",
              "    <tr>\n",
              "      <th>99</th>\n",
              "      <td>4413</td>\n",
              "      <td>4700.371911</td>\n",
              "    </tr>\n",
              "    <tr>\n",
              "      <th>146</th>\n",
              "      <td>3170</td>\n",
              "      <td>3155.838346</td>\n",
              "    </tr>\n",
              "    <tr>\n",
              "      <th>147</th>\n",
              "      <td>3143</td>\n",
              "      <td>3094.546624</td>\n",
              "    </tr>\n",
              "  </tbody>\n",
              "</table>\n",
              "</div>\n",
              "      <button class=\"colab-df-convert\" onclick=\"convertToInteractive('df-90062792-c3f9-47eb-b60b-67b9662899fb')\"\n",
              "              title=\"Convert this dataframe to an interactive table.\"\n",
              "              style=\"display:none;\">\n",
              "        \n",
              "  <svg xmlns=\"http://www.w3.org/2000/svg\" height=\"24px\"viewBox=\"0 0 24 24\"\n",
              "       width=\"24px\">\n",
              "    <path d=\"M0 0h24v24H0V0z\" fill=\"none\"/>\n",
              "    <path d=\"M18.56 5.44l.94 2.06.94-2.06 2.06-.94-2.06-.94-.94-2.06-.94 2.06-2.06.94zm-11 1L8.5 8.5l.94-2.06 2.06-.94-2.06-.94L8.5 2.5l-.94 2.06-2.06.94zm10 10l.94 2.06.94-2.06 2.06-.94-2.06-.94-.94-2.06-.94 2.06-2.06.94z\"/><path d=\"M17.41 7.96l-1.37-1.37c-.4-.4-.92-.59-1.43-.59-.52 0-1.04.2-1.43.59L10.3 9.45l-7.72 7.72c-.78.78-.78 2.05 0 2.83L4 21.41c.39.39.9.59 1.41.59.51 0 1.02-.2 1.41-.59l7.78-7.78 2.81-2.81c.8-.78.8-2.07 0-2.86zM5.41 20L4 18.59l7.72-7.72 1.47 1.35L5.41 20z\"/>\n",
              "  </svg>\n",
              "      </button>\n",
              "      \n",
              "  <style>\n",
              "    .colab-df-container {\n",
              "      display:flex;\n",
              "      flex-wrap:wrap;\n",
              "      gap: 12px;\n",
              "    }\n",
              "\n",
              "    .colab-df-convert {\n",
              "      background-color: #E8F0FE;\n",
              "      border: none;\n",
              "      border-radius: 50%;\n",
              "      cursor: pointer;\n",
              "      display: none;\n",
              "      fill: #1967D2;\n",
              "      height: 32px;\n",
              "      padding: 0 0 0 0;\n",
              "      width: 32px;\n",
              "    }\n",
              "\n",
              "    .colab-df-convert:hover {\n",
              "      background-color: #E2EBFA;\n",
              "      box-shadow: 0px 1px 2px rgba(60, 64, 67, 0.3), 0px 1px 3px 1px rgba(60, 64, 67, 0.15);\n",
              "      fill: #174EA6;\n",
              "    }\n",
              "\n",
              "    [theme=dark] .colab-df-convert {\n",
              "      background-color: #3B4455;\n",
              "      fill: #D2E3FC;\n",
              "    }\n",
              "\n",
              "    [theme=dark] .colab-df-convert:hover {\n",
              "      background-color: #434B5C;\n",
              "      box-shadow: 0px 1px 3px 1px rgba(0, 0, 0, 0.15);\n",
              "      filter: drop-shadow(0px 1px 2px rgba(0, 0, 0, 0.3));\n",
              "      fill: #FFFFFF;\n",
              "    }\n",
              "  </style>\n",
              "\n",
              "      <script>\n",
              "        const buttonEl =\n",
              "          document.querySelector('#df-90062792-c3f9-47eb-b60b-67b9662899fb button.colab-df-convert');\n",
              "        buttonEl.style.display =\n",
              "          google.colab.kernel.accessAllowed ? 'block' : 'none';\n",
              "\n",
              "        async function convertToInteractive(key) {\n",
              "          const element = document.querySelector('#df-90062792-c3f9-47eb-b60b-67b9662899fb');\n",
              "          const dataTable =\n",
              "            await google.colab.kernel.invokeFunction('convertToInteractive',\n",
              "                                                     [key], {});\n",
              "          if (!dataTable) return;\n",
              "\n",
              "          const docLinkHtml = 'Like what you see? Visit the ' +\n",
              "            '<a target=\"_blank\" href=https://colab.research.google.com/notebooks/data_table.ipynb>data table notebook</a>'\n",
              "            + ' to learn more about interactive tables.';\n",
              "          element.innerHTML = '';\n",
              "          dataTable['output_type'] = 'display_data';\n",
              "          await google.colab.output.renderOutput(dataTable, element);\n",
              "          const docLink = document.createElement('div');\n",
              "          docLink.innerHTML = docLinkHtml;\n",
              "          element.appendChild(docLink);\n",
              "        }\n",
              "      </script>\n",
              "    </div>\n",
              "  </div>\n",
              "  "
            ]
          },
          "metadata": {},
          "execution_count": 18
        }
      ]
    },
    {
      "cell_type": "code",
      "source": [
        "from sklearn import metrics\n",
        "meanAbErr = metrics.mean_absolute_error(y_test_1, y_pred_lr_1)\n",
        "meanSqErr = metrics.mean_squared_error(y_test_1, y_pred_lr_1)\n",
        "rootMeanSqErr = np.sqrt(metrics.mean_squared_error(y_test_1, y_pred_lr_1))\n",
        "print('R squared: {:.2f}'.format(lr.score(x_1,y_1)*100))\n",
        "print('Mean Absolute Error:', meanAbErr)\n",
        "print('Mean Square Error:', meanSqErr)\n",
        "print('Root Mean Square Error:', rootMeanSqErr)"
      ],
      "metadata": {
        "colab": {
          "base_uri": "https://localhost:8080/"
        },
        "id": "Nk5bX-KszER3",
        "outputId": "22b165eb-c564-438f-9fb8-ff4048d43ae4"
      },
      "execution_count": 19,
      "outputs": [
        {
          "output_type": "stream",
          "name": "stdout",
          "text": [
            "R squared: 98.86\n",
            "Mean Absolute Error: 116.76388673080568\n",
            "Mean Square Error: 32304.829230933392\n",
            "Root Mean Square Error: 179.7354423338185\n"
          ]
        }
      ]
    },
    {
      "cell_type": "markdown",
      "source": [
        "The variables Inns, BF, 100, 50 have a P-Value less than 0.05\n",
        "\n",
        "The R-squared value for the model with all the variables was 99.39\n",
        "\n",
        "Inns was correlated with all the variables barring Ave\n",
        "\n",
        "Now in a model with only Inns, BF, 100 and 50 is trained.\n",
        "\n",
        "The coeffcient of 100 in this model was 106.4\n",
        "\n",
        "In the previous model the coefficient of 100 was 70\n",
        "\n",
        "So the coefficient has increased in this model which says that 100 has a greater influence on this model than the previous one.\n",
        "\n",
        "b. The R-sqaured value of the new model is 98.86 which has been decreased from the previous model which was 99.37. So the first model is a better model for our varibles than our previous models."
      ],
      "metadata": {
        "id": "T4J_n9fN1itK"
      }
    }
  ]
}