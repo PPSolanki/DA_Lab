{
  "nbformat": 4,
  "nbformat_minor": 0,
  "metadata": {
    "colab": {
      "provenance": [],
      "authorship_tag": "ABX9TyN3Vtc75b1kRZftXKDOCQq0",
      "include_colab_link": true
    },
    "kernelspec": {
      "name": "python3",
      "display_name": "Python 3"
    },
    "language_info": {
      "name": "python"
    }
  },
  "cells": [
    {
      "cell_type": "markdown",
      "metadata": {
        "id": "view-in-github",
        "colab_type": "text"
      },
      "source": [
        "<a href=\"https://colab.research.google.com/github/PPSolanki/DA_Lab/blob/main/Exp3_Pratham_P_Solanki.ipynb\" target=\"_parent\"><img src=\"https://colab.research.google.com/assets/colab-badge.svg\" alt=\"Open In Colab\"/></a>"
      ]
    },
    {
      "cell_type": "code",
      "execution_count": 1,
      "metadata": {
        "id": "SmJligqA4XNF"
      },
      "outputs": [],
      "source": [
        "import pandas as pd\n",
        "%matplotlib inline\n",
        "import matplotlib.pyplot as plt\n",
        "import seaborn as sns\n",
        "import statistics\n",
        "import statistics\n",
        "import scipy.stats\n",
        "from scipy import stats"
      ]
    },
    {
      "cell_type": "markdown",
      "source": [
        "The dataset which was used is a record of the top 500 leading runs scorers in ODI cricket and it contains the runs scored by them, their averages, strike rate, innings etc."
      ],
      "metadata": {
        "id": "x_CFC_1-hELQ"
      }
    },
    {
      "cell_type": "code",
      "source": [
        "bat_perf = '/content/ODI data.csv'\n",
        "df = pd.read_csv(bat_perf)\n",
        "df"
      ],
      "metadata": {
        "id": "HncsaEKq7EUB",
        "outputId": "5dedbbdd-99fa-4f50-b0cd-3f8c5696cfd1",
        "colab": {
          "base_uri": "https://localhost:8080/",
          "height": 659
        }
      },
      "execution_count": 2,
      "outputs": [
        {
          "output_type": "execute_result",
          "data": {
            "text/plain": [
              "     Unnamed: 0                       Player       Span  Mat  Inns  NO   Runs  \\\n",
              "0             0         SR Tendulkar (INDIA)  1989-2012  463   452  41  18426   \n",
              "1             1  KC Sangakkara (Asia/ICC/SL)  2000-2015  404   380  41  14234   \n",
              "2             2         RT Ponting (AUS/ICC)  1995-2012  375   365  39  13704   \n",
              "3             3      ST Jayasuriya (Asia/SL)  1989-2011  445   433  18  13430   \n",
              "4             4   DPMD Jayawardene (Asia/SL)  1998-2015  448   418  39  12650   \n",
              "..          ...                          ...        ...  ...   ...  ..    ...   \n",
              "495          45              PA Wallace (WI)  1991-2000   33    33   0    701   \n",
              "496          46              SM Ervine (ZIM)  2001-2004   42    34   7    698   \n",
              "497          47               PL Symcox (SA)  1993-1999   80    54  13    694   \n",
              "498          48         Rameez Shahzad (UAE)  2016-2018   15    15   2    691   \n",
              "499          49          PAJ DeFreitas (ENG)  1987-1997  103    66  23    690   \n",
              "\n",
              "       HS    Ave     BF     SR  100  50   0  Unnamed: 13  \n",
              "0    200*  44.83  21367  86.23   49  96  20          NaN  \n",
              "1     169  41.98  18048  78.86   25  93  15          NaN  \n",
              "2     164  42.03  17046  80.39   30  82  20          NaN  \n",
              "3     189  32.36  14725  91.20   28  68  34          NaN  \n",
              "4     144  33.37  16020  78.96   19  77  28          NaN  \n",
              "..    ...    ...    ...    ...  ...  ..  ..          ...  \n",
              "495   103  21.24   1151  60.90    1   2   4          NaN  \n",
              "496   100  25.85    816  85.53    1   2   5          NaN  \n",
              "497    61  16.92    830  83.61    0   3   6          NaN  \n",
              "498  121*  53.15    817  84.57    2   4   1          NaN  \n",
              "499    67  16.04    823  83.83    0   1   4          NaN  \n",
              "\n",
              "[500 rows x 15 columns]"
            ],
            "text/html": [
              "\n",
              "  <div id=\"df-7270b8ec-fc2e-45c6-bea2-c8694a381b26\">\n",
              "    <div class=\"colab-df-container\">\n",
              "      <div>\n",
              "<style scoped>\n",
              "    .dataframe tbody tr th:only-of-type {\n",
              "        vertical-align: middle;\n",
              "    }\n",
              "\n",
              "    .dataframe tbody tr th {\n",
              "        vertical-align: top;\n",
              "    }\n",
              "\n",
              "    .dataframe thead th {\n",
              "        text-align: right;\n",
              "    }\n",
              "</style>\n",
              "<table border=\"1\" class=\"dataframe\">\n",
              "  <thead>\n",
              "    <tr style=\"text-align: right;\">\n",
              "      <th></th>\n",
              "      <th>Unnamed: 0</th>\n",
              "      <th>Player</th>\n",
              "      <th>Span</th>\n",
              "      <th>Mat</th>\n",
              "      <th>Inns</th>\n",
              "      <th>NO</th>\n",
              "      <th>Runs</th>\n",
              "      <th>HS</th>\n",
              "      <th>Ave</th>\n",
              "      <th>BF</th>\n",
              "      <th>SR</th>\n",
              "      <th>100</th>\n",
              "      <th>50</th>\n",
              "      <th>0</th>\n",
              "      <th>Unnamed: 13</th>\n",
              "    </tr>\n",
              "  </thead>\n",
              "  <tbody>\n",
              "    <tr>\n",
              "      <th>0</th>\n",
              "      <td>0</td>\n",
              "      <td>SR Tendulkar (INDIA)</td>\n",
              "      <td>1989-2012</td>\n",
              "      <td>463</td>\n",
              "      <td>452</td>\n",
              "      <td>41</td>\n",
              "      <td>18426</td>\n",
              "      <td>200*</td>\n",
              "      <td>44.83</td>\n",
              "      <td>21367</td>\n",
              "      <td>86.23</td>\n",
              "      <td>49</td>\n",
              "      <td>96</td>\n",
              "      <td>20</td>\n",
              "      <td>NaN</td>\n",
              "    </tr>\n",
              "    <tr>\n",
              "      <th>1</th>\n",
              "      <td>1</td>\n",
              "      <td>KC Sangakkara (Asia/ICC/SL)</td>\n",
              "      <td>2000-2015</td>\n",
              "      <td>404</td>\n",
              "      <td>380</td>\n",
              "      <td>41</td>\n",
              "      <td>14234</td>\n",
              "      <td>169</td>\n",
              "      <td>41.98</td>\n",
              "      <td>18048</td>\n",
              "      <td>78.86</td>\n",
              "      <td>25</td>\n",
              "      <td>93</td>\n",
              "      <td>15</td>\n",
              "      <td>NaN</td>\n",
              "    </tr>\n",
              "    <tr>\n",
              "      <th>2</th>\n",
              "      <td>2</td>\n",
              "      <td>RT Ponting (AUS/ICC)</td>\n",
              "      <td>1995-2012</td>\n",
              "      <td>375</td>\n",
              "      <td>365</td>\n",
              "      <td>39</td>\n",
              "      <td>13704</td>\n",
              "      <td>164</td>\n",
              "      <td>42.03</td>\n",
              "      <td>17046</td>\n",
              "      <td>80.39</td>\n",
              "      <td>30</td>\n",
              "      <td>82</td>\n",
              "      <td>20</td>\n",
              "      <td>NaN</td>\n",
              "    </tr>\n",
              "    <tr>\n",
              "      <th>3</th>\n",
              "      <td>3</td>\n",
              "      <td>ST Jayasuriya (Asia/SL)</td>\n",
              "      <td>1989-2011</td>\n",
              "      <td>445</td>\n",
              "      <td>433</td>\n",
              "      <td>18</td>\n",
              "      <td>13430</td>\n",
              "      <td>189</td>\n",
              "      <td>32.36</td>\n",
              "      <td>14725</td>\n",
              "      <td>91.20</td>\n",
              "      <td>28</td>\n",
              "      <td>68</td>\n",
              "      <td>34</td>\n",
              "      <td>NaN</td>\n",
              "    </tr>\n",
              "    <tr>\n",
              "      <th>4</th>\n",
              "      <td>4</td>\n",
              "      <td>DPMD Jayawardene (Asia/SL)</td>\n",
              "      <td>1998-2015</td>\n",
              "      <td>448</td>\n",
              "      <td>418</td>\n",
              "      <td>39</td>\n",
              "      <td>12650</td>\n",
              "      <td>144</td>\n",
              "      <td>33.37</td>\n",
              "      <td>16020</td>\n",
              "      <td>78.96</td>\n",
              "      <td>19</td>\n",
              "      <td>77</td>\n",
              "      <td>28</td>\n",
              "      <td>NaN</td>\n",
              "    </tr>\n",
              "    <tr>\n",
              "      <th>...</th>\n",
              "      <td>...</td>\n",
              "      <td>...</td>\n",
              "      <td>...</td>\n",
              "      <td>...</td>\n",
              "      <td>...</td>\n",
              "      <td>...</td>\n",
              "      <td>...</td>\n",
              "      <td>...</td>\n",
              "      <td>...</td>\n",
              "      <td>...</td>\n",
              "      <td>...</td>\n",
              "      <td>...</td>\n",
              "      <td>...</td>\n",
              "      <td>...</td>\n",
              "      <td>...</td>\n",
              "    </tr>\n",
              "    <tr>\n",
              "      <th>495</th>\n",
              "      <td>45</td>\n",
              "      <td>PA Wallace (WI)</td>\n",
              "      <td>1991-2000</td>\n",
              "      <td>33</td>\n",
              "      <td>33</td>\n",
              "      <td>0</td>\n",
              "      <td>701</td>\n",
              "      <td>103</td>\n",
              "      <td>21.24</td>\n",
              "      <td>1151</td>\n",
              "      <td>60.90</td>\n",
              "      <td>1</td>\n",
              "      <td>2</td>\n",
              "      <td>4</td>\n",
              "      <td>NaN</td>\n",
              "    </tr>\n",
              "    <tr>\n",
              "      <th>496</th>\n",
              "      <td>46</td>\n",
              "      <td>SM Ervine (ZIM)</td>\n",
              "      <td>2001-2004</td>\n",
              "      <td>42</td>\n",
              "      <td>34</td>\n",
              "      <td>7</td>\n",
              "      <td>698</td>\n",
              "      <td>100</td>\n",
              "      <td>25.85</td>\n",
              "      <td>816</td>\n",
              "      <td>85.53</td>\n",
              "      <td>1</td>\n",
              "      <td>2</td>\n",
              "      <td>5</td>\n",
              "      <td>NaN</td>\n",
              "    </tr>\n",
              "    <tr>\n",
              "      <th>497</th>\n",
              "      <td>47</td>\n",
              "      <td>PL Symcox (SA)</td>\n",
              "      <td>1993-1999</td>\n",
              "      <td>80</td>\n",
              "      <td>54</td>\n",
              "      <td>13</td>\n",
              "      <td>694</td>\n",
              "      <td>61</td>\n",
              "      <td>16.92</td>\n",
              "      <td>830</td>\n",
              "      <td>83.61</td>\n",
              "      <td>0</td>\n",
              "      <td>3</td>\n",
              "      <td>6</td>\n",
              "      <td>NaN</td>\n",
              "    </tr>\n",
              "    <tr>\n",
              "      <th>498</th>\n",
              "      <td>48</td>\n",
              "      <td>Rameez Shahzad (UAE)</td>\n",
              "      <td>2016-2018</td>\n",
              "      <td>15</td>\n",
              "      <td>15</td>\n",
              "      <td>2</td>\n",
              "      <td>691</td>\n",
              "      <td>121*</td>\n",
              "      <td>53.15</td>\n",
              "      <td>817</td>\n",
              "      <td>84.57</td>\n",
              "      <td>2</td>\n",
              "      <td>4</td>\n",
              "      <td>1</td>\n",
              "      <td>NaN</td>\n",
              "    </tr>\n",
              "    <tr>\n",
              "      <th>499</th>\n",
              "      <td>49</td>\n",
              "      <td>PAJ DeFreitas (ENG)</td>\n",
              "      <td>1987-1997</td>\n",
              "      <td>103</td>\n",
              "      <td>66</td>\n",
              "      <td>23</td>\n",
              "      <td>690</td>\n",
              "      <td>67</td>\n",
              "      <td>16.04</td>\n",
              "      <td>823</td>\n",
              "      <td>83.83</td>\n",
              "      <td>0</td>\n",
              "      <td>1</td>\n",
              "      <td>4</td>\n",
              "      <td>NaN</td>\n",
              "    </tr>\n",
              "  </tbody>\n",
              "</table>\n",
              "<p>500 rows × 15 columns</p>\n",
              "</div>\n",
              "      <button class=\"colab-df-convert\" onclick=\"convertToInteractive('df-7270b8ec-fc2e-45c6-bea2-c8694a381b26')\"\n",
              "              title=\"Convert this dataframe to an interactive table.\"\n",
              "              style=\"display:none;\">\n",
              "        \n",
              "  <svg xmlns=\"http://www.w3.org/2000/svg\" height=\"24px\"viewBox=\"0 0 24 24\"\n",
              "       width=\"24px\">\n",
              "    <path d=\"M0 0h24v24H0V0z\" fill=\"none\"/>\n",
              "    <path d=\"M18.56 5.44l.94 2.06.94-2.06 2.06-.94-2.06-.94-.94-2.06-.94 2.06-2.06.94zm-11 1L8.5 8.5l.94-2.06 2.06-.94-2.06-.94L8.5 2.5l-.94 2.06-2.06.94zm10 10l.94 2.06.94-2.06 2.06-.94-2.06-.94-.94-2.06-.94 2.06-2.06.94z\"/><path d=\"M17.41 7.96l-1.37-1.37c-.4-.4-.92-.59-1.43-.59-.52 0-1.04.2-1.43.59L10.3 9.45l-7.72 7.72c-.78.78-.78 2.05 0 2.83L4 21.41c.39.39.9.59 1.41.59.51 0 1.02-.2 1.41-.59l7.78-7.78 2.81-2.81c.8-.78.8-2.07 0-2.86zM5.41 20L4 18.59l7.72-7.72 1.47 1.35L5.41 20z\"/>\n",
              "  </svg>\n",
              "      </button>\n",
              "      \n",
              "  <style>\n",
              "    .colab-df-container {\n",
              "      display:flex;\n",
              "      flex-wrap:wrap;\n",
              "      gap: 12px;\n",
              "    }\n",
              "\n",
              "    .colab-df-convert {\n",
              "      background-color: #E8F0FE;\n",
              "      border: none;\n",
              "      border-radius: 50%;\n",
              "      cursor: pointer;\n",
              "      display: none;\n",
              "      fill: #1967D2;\n",
              "      height: 32px;\n",
              "      padding: 0 0 0 0;\n",
              "      width: 32px;\n",
              "    }\n",
              "\n",
              "    .colab-df-convert:hover {\n",
              "      background-color: #E2EBFA;\n",
              "      box-shadow: 0px 1px 2px rgba(60, 64, 67, 0.3), 0px 1px 3px 1px rgba(60, 64, 67, 0.15);\n",
              "      fill: #174EA6;\n",
              "    }\n",
              "\n",
              "    [theme=dark] .colab-df-convert {\n",
              "      background-color: #3B4455;\n",
              "      fill: #D2E3FC;\n",
              "    }\n",
              "\n",
              "    [theme=dark] .colab-df-convert:hover {\n",
              "      background-color: #434B5C;\n",
              "      box-shadow: 0px 1px 3px 1px rgba(0, 0, 0, 0.15);\n",
              "      filter: drop-shadow(0px 1px 2px rgba(0, 0, 0, 0.3));\n",
              "      fill: #FFFFFF;\n",
              "    }\n",
              "  </style>\n",
              "\n",
              "      <script>\n",
              "        const buttonEl =\n",
              "          document.querySelector('#df-7270b8ec-fc2e-45c6-bea2-c8694a381b26 button.colab-df-convert');\n",
              "        buttonEl.style.display =\n",
              "          google.colab.kernel.accessAllowed ? 'block' : 'none';\n",
              "\n",
              "        async function convertToInteractive(key) {\n",
              "          const element = document.querySelector('#df-7270b8ec-fc2e-45c6-bea2-c8694a381b26');\n",
              "          const dataTable =\n",
              "            await google.colab.kernel.invokeFunction('convertToInteractive',\n",
              "                                                     [key], {});\n",
              "          if (!dataTable) return;\n",
              "\n",
              "          const docLinkHtml = 'Like what you see? Visit the ' +\n",
              "            '<a target=\"_blank\" href=https://colab.research.google.com/notebooks/data_table.ipynb>data table notebook</a>'\n",
              "            + ' to learn more about interactive tables.';\n",
              "          element.innerHTML = '';\n",
              "          dataTable['output_type'] = 'display_data';\n",
              "          await google.colab.output.renderOutput(dataTable, element);\n",
              "          const docLink = document.createElement('div');\n",
              "          docLink.innerHTML = docLinkHtml;\n",
              "          element.appendChild(docLink);\n",
              "        }\n",
              "      </script>\n",
              "    </div>\n",
              "  </div>\n",
              "  "
            ]
          },
          "metadata": {},
          "execution_count": 2
        }
      ]
    },
    {
      "cell_type": "code",
      "source": [
        "df.describe()"
      ],
      "metadata": {
        "id": "-9Afy67Q7H5A",
        "colab": {
          "base_uri": "https://localhost:8080/",
          "height": 382
        },
        "outputId": "edbebf75-3fdb-4234-890f-298192947669"
      },
      "execution_count": 3,
      "outputs": [
        {
          "output_type": "execute_result",
          "data": {
            "text/plain": [
              "       Unnamed: 0         Mat        Inns          NO          Runs  \\\n",
              "count  500.000000  500.000000  500.000000  500.000000    500.000000   \n",
              "mean    24.500000  116.300000  103.278000   15.012000   2859.904000   \n",
              "std     14.445322   82.866856   75.073356   14.449132   2638.015998   \n",
              "min      0.000000   15.000000   15.000000    0.000000    690.000000   \n",
              "25%     12.000000   54.000000   48.000000    4.000000   1049.250000   \n",
              "50%     24.500000   88.000000   78.000000   10.000000   1816.000000   \n",
              "75%     37.000000  157.250000  132.000000   21.000000   3646.500000   \n",
              "max     49.000000  463.000000  452.000000   84.000000  18426.000000   \n",
              "\n",
              "              Ave            BF          SR         100          50  \\\n",
              "count  500.000000    500.000000  500.000000  500.000000  500.000000   \n",
              "mean    30.795000   3735.868000   76.738260    3.490000   16.260000   \n",
              "std      8.891262   3310.338276   13.076022    5.773783   16.770178   \n",
              "min     10.300000    661.000000   48.040000    0.000000    0.000000   \n",
              "25%     24.492500   1449.500000   67.955000    0.000000    5.000000   \n",
              "50%     30.515000   2451.500000   75.285000    1.000000   10.000000   \n",
              "75%     36.512500   5026.750000   83.977500    4.000000   22.000000   \n",
              "max     67.000000  21367.000000  130.220000   49.000000   96.000000   \n",
              "\n",
              "                0  Unnamed: 13  \n",
              "count  500.000000          0.0  \n",
              "mean     7.052000          NaN  \n",
              "std      5.459754          NaN  \n",
              "min      0.000000          NaN  \n",
              "25%      3.000000          NaN  \n",
              "50%      6.000000          NaN  \n",
              "75%      9.250000          NaN  \n",
              "max     34.000000          NaN  "
            ],
            "text/html": [
              "\n",
              "  <div id=\"df-bd14196f-678a-4586-bb9a-2486d785db8f\">\n",
              "    <div class=\"colab-df-container\">\n",
              "      <div>\n",
              "<style scoped>\n",
              "    .dataframe tbody tr th:only-of-type {\n",
              "        vertical-align: middle;\n",
              "    }\n",
              "\n",
              "    .dataframe tbody tr th {\n",
              "        vertical-align: top;\n",
              "    }\n",
              "\n",
              "    .dataframe thead th {\n",
              "        text-align: right;\n",
              "    }\n",
              "</style>\n",
              "<table border=\"1\" class=\"dataframe\">\n",
              "  <thead>\n",
              "    <tr style=\"text-align: right;\">\n",
              "      <th></th>\n",
              "      <th>Unnamed: 0</th>\n",
              "      <th>Mat</th>\n",
              "      <th>Inns</th>\n",
              "      <th>NO</th>\n",
              "      <th>Runs</th>\n",
              "      <th>Ave</th>\n",
              "      <th>BF</th>\n",
              "      <th>SR</th>\n",
              "      <th>100</th>\n",
              "      <th>50</th>\n",
              "      <th>0</th>\n",
              "      <th>Unnamed: 13</th>\n",
              "    </tr>\n",
              "  </thead>\n",
              "  <tbody>\n",
              "    <tr>\n",
              "      <th>count</th>\n",
              "      <td>500.000000</td>\n",
              "      <td>500.000000</td>\n",
              "      <td>500.000000</td>\n",
              "      <td>500.000000</td>\n",
              "      <td>500.000000</td>\n",
              "      <td>500.000000</td>\n",
              "      <td>500.000000</td>\n",
              "      <td>500.000000</td>\n",
              "      <td>500.000000</td>\n",
              "      <td>500.000000</td>\n",
              "      <td>500.000000</td>\n",
              "      <td>0.0</td>\n",
              "    </tr>\n",
              "    <tr>\n",
              "      <th>mean</th>\n",
              "      <td>24.500000</td>\n",
              "      <td>116.300000</td>\n",
              "      <td>103.278000</td>\n",
              "      <td>15.012000</td>\n",
              "      <td>2859.904000</td>\n",
              "      <td>30.795000</td>\n",
              "      <td>3735.868000</td>\n",
              "      <td>76.738260</td>\n",
              "      <td>3.490000</td>\n",
              "      <td>16.260000</td>\n",
              "      <td>7.052000</td>\n",
              "      <td>NaN</td>\n",
              "    </tr>\n",
              "    <tr>\n",
              "      <th>std</th>\n",
              "      <td>14.445322</td>\n",
              "      <td>82.866856</td>\n",
              "      <td>75.073356</td>\n",
              "      <td>14.449132</td>\n",
              "      <td>2638.015998</td>\n",
              "      <td>8.891262</td>\n",
              "      <td>3310.338276</td>\n",
              "      <td>13.076022</td>\n",
              "      <td>5.773783</td>\n",
              "      <td>16.770178</td>\n",
              "      <td>5.459754</td>\n",
              "      <td>NaN</td>\n",
              "    </tr>\n",
              "    <tr>\n",
              "      <th>min</th>\n",
              "      <td>0.000000</td>\n",
              "      <td>15.000000</td>\n",
              "      <td>15.000000</td>\n",
              "      <td>0.000000</td>\n",
              "      <td>690.000000</td>\n",
              "      <td>10.300000</td>\n",
              "      <td>661.000000</td>\n",
              "      <td>48.040000</td>\n",
              "      <td>0.000000</td>\n",
              "      <td>0.000000</td>\n",
              "      <td>0.000000</td>\n",
              "      <td>NaN</td>\n",
              "    </tr>\n",
              "    <tr>\n",
              "      <th>25%</th>\n",
              "      <td>12.000000</td>\n",
              "      <td>54.000000</td>\n",
              "      <td>48.000000</td>\n",
              "      <td>4.000000</td>\n",
              "      <td>1049.250000</td>\n",
              "      <td>24.492500</td>\n",
              "      <td>1449.500000</td>\n",
              "      <td>67.955000</td>\n",
              "      <td>0.000000</td>\n",
              "      <td>5.000000</td>\n",
              "      <td>3.000000</td>\n",
              "      <td>NaN</td>\n",
              "    </tr>\n",
              "    <tr>\n",
              "      <th>50%</th>\n",
              "      <td>24.500000</td>\n",
              "      <td>88.000000</td>\n",
              "      <td>78.000000</td>\n",
              "      <td>10.000000</td>\n",
              "      <td>1816.000000</td>\n",
              "      <td>30.515000</td>\n",
              "      <td>2451.500000</td>\n",
              "      <td>75.285000</td>\n",
              "      <td>1.000000</td>\n",
              "      <td>10.000000</td>\n",
              "      <td>6.000000</td>\n",
              "      <td>NaN</td>\n",
              "    </tr>\n",
              "    <tr>\n",
              "      <th>75%</th>\n",
              "      <td>37.000000</td>\n",
              "      <td>157.250000</td>\n",
              "      <td>132.000000</td>\n",
              "      <td>21.000000</td>\n",
              "      <td>3646.500000</td>\n",
              "      <td>36.512500</td>\n",
              "      <td>5026.750000</td>\n",
              "      <td>83.977500</td>\n",
              "      <td>4.000000</td>\n",
              "      <td>22.000000</td>\n",
              "      <td>9.250000</td>\n",
              "      <td>NaN</td>\n",
              "    </tr>\n",
              "    <tr>\n",
              "      <th>max</th>\n",
              "      <td>49.000000</td>\n",
              "      <td>463.000000</td>\n",
              "      <td>452.000000</td>\n",
              "      <td>84.000000</td>\n",
              "      <td>18426.000000</td>\n",
              "      <td>67.000000</td>\n",
              "      <td>21367.000000</td>\n",
              "      <td>130.220000</td>\n",
              "      <td>49.000000</td>\n",
              "      <td>96.000000</td>\n",
              "      <td>34.000000</td>\n",
              "      <td>NaN</td>\n",
              "    </tr>\n",
              "  </tbody>\n",
              "</table>\n",
              "</div>\n",
              "      <button class=\"colab-df-convert\" onclick=\"convertToInteractive('df-bd14196f-678a-4586-bb9a-2486d785db8f')\"\n",
              "              title=\"Convert this dataframe to an interactive table.\"\n",
              "              style=\"display:none;\">\n",
              "        \n",
              "  <svg xmlns=\"http://www.w3.org/2000/svg\" height=\"24px\"viewBox=\"0 0 24 24\"\n",
              "       width=\"24px\">\n",
              "    <path d=\"M0 0h24v24H0V0z\" fill=\"none\"/>\n",
              "    <path d=\"M18.56 5.44l.94 2.06.94-2.06 2.06-.94-2.06-.94-.94-2.06-.94 2.06-2.06.94zm-11 1L8.5 8.5l.94-2.06 2.06-.94-2.06-.94L8.5 2.5l-.94 2.06-2.06.94zm10 10l.94 2.06.94-2.06 2.06-.94-2.06-.94-.94-2.06-.94 2.06-2.06.94z\"/><path d=\"M17.41 7.96l-1.37-1.37c-.4-.4-.92-.59-1.43-.59-.52 0-1.04.2-1.43.59L10.3 9.45l-7.72 7.72c-.78.78-.78 2.05 0 2.83L4 21.41c.39.39.9.59 1.41.59.51 0 1.02-.2 1.41-.59l7.78-7.78 2.81-2.81c.8-.78.8-2.07 0-2.86zM5.41 20L4 18.59l7.72-7.72 1.47 1.35L5.41 20z\"/>\n",
              "  </svg>\n",
              "      </button>\n",
              "      \n",
              "  <style>\n",
              "    .colab-df-container {\n",
              "      display:flex;\n",
              "      flex-wrap:wrap;\n",
              "      gap: 12px;\n",
              "    }\n",
              "\n",
              "    .colab-df-convert {\n",
              "      background-color: #E8F0FE;\n",
              "      border: none;\n",
              "      border-radius: 50%;\n",
              "      cursor: pointer;\n",
              "      display: none;\n",
              "      fill: #1967D2;\n",
              "      height: 32px;\n",
              "      padding: 0 0 0 0;\n",
              "      width: 32px;\n",
              "    }\n",
              "\n",
              "    .colab-df-convert:hover {\n",
              "      background-color: #E2EBFA;\n",
              "      box-shadow: 0px 1px 2px rgba(60, 64, 67, 0.3), 0px 1px 3px 1px rgba(60, 64, 67, 0.15);\n",
              "      fill: #174EA6;\n",
              "    }\n",
              "\n",
              "    [theme=dark] .colab-df-convert {\n",
              "      background-color: #3B4455;\n",
              "      fill: #D2E3FC;\n",
              "    }\n",
              "\n",
              "    [theme=dark] .colab-df-convert:hover {\n",
              "      background-color: #434B5C;\n",
              "      box-shadow: 0px 1px 3px 1px rgba(0, 0, 0, 0.15);\n",
              "      filter: drop-shadow(0px 1px 2px rgba(0, 0, 0, 0.3));\n",
              "      fill: #FFFFFF;\n",
              "    }\n",
              "  </style>\n",
              "\n",
              "      <script>\n",
              "        const buttonEl =\n",
              "          document.querySelector('#df-bd14196f-678a-4586-bb9a-2486d785db8f button.colab-df-convert');\n",
              "        buttonEl.style.display =\n",
              "          google.colab.kernel.accessAllowed ? 'block' : 'none';\n",
              "\n",
              "        async function convertToInteractive(key) {\n",
              "          const element = document.querySelector('#df-bd14196f-678a-4586-bb9a-2486d785db8f');\n",
              "          const dataTable =\n",
              "            await google.colab.kernel.invokeFunction('convertToInteractive',\n",
              "                                                     [key], {});\n",
              "          if (!dataTable) return;\n",
              "\n",
              "          const docLinkHtml = 'Like what you see? Visit the ' +\n",
              "            '<a target=\"_blank\" href=https://colab.research.google.com/notebooks/data_table.ipynb>data table notebook</a>'\n",
              "            + ' to learn more about interactive tables.';\n",
              "          element.innerHTML = '';\n",
              "          dataTable['output_type'] = 'display_data';\n",
              "          await google.colab.output.renderOutput(dataTable, element);\n",
              "          const docLink = document.createElement('div');\n",
              "          docLink.innerHTML = docLinkHtml;\n",
              "          element.appendChild(docLink);\n",
              "        }\n",
              "      </script>\n",
              "    </div>\n",
              "  </div>\n",
              "  "
            ]
          },
          "metadata": {},
          "execution_count": 3
        }
      ]
    },
    {
      "cell_type": "markdown",
      "source": [
        "Here, we calculate the mean, median and mode of the Average attribute as that is the variable we are going to carry out hypothesis testing on"
      ],
      "metadata": {
        "id": "ThD0u-JUihYY"
      }
    },
    {
      "cell_type": "code",
      "source": [
        "null_hypo=df['Ave'].mean()\n",
        "print('The null hypothsis is', null_hypo)\n",
        "print('The median is', df['Ave'].median())\n",
        "print('The mode is', df['Ave'].mode())"
      ],
      "metadata": {
        "id": "R5tcbRQ17KwX",
        "colab": {
          "base_uri": "https://localhost:8080/"
        },
        "outputId": "08b94a2f-2cb3-402b-9cb7-9f04a8e21d73"
      },
      "execution_count": 4,
      "outputs": [
        {
          "output_type": "stream",
          "name": "stdout",
          "text": [
            "The null hypothsis is 30.795\n",
            "The median is 30.515\n",
            "The mode is 0     14.58\n",
            "1     17.29\n",
            "2     21.68\n",
            "3     23.00\n",
            "4     23.49\n",
            "5     24.54\n",
            "6     24.62\n",
            "7     25.68\n",
            "8     26.09\n",
            "9     26.67\n",
            "10    27.00\n",
            "11    27.11\n",
            "12    27.21\n",
            "13    27.82\n",
            "14    29.00\n",
            "15    29.01\n",
            "16    29.05\n",
            "17    29.60\n",
            "18    30.62\n",
            "19    31.25\n",
            "20    32.01\n",
            "21    32.36\n",
            "22    32.42\n",
            "23    32.48\n",
            "24    32.90\n",
            "25    33.41\n",
            "26    34.18\n",
            "27    34.40\n",
            "28    35.11\n",
            "29    35.26\n",
            "30    35.34\n",
            "31    37.04\n",
            "32    42.23\n",
            "33    43.80\n",
            "34    47.00\n",
            "dtype: float64\n"
          ]
        }
      ]
    },
    {
      "cell_type": "markdown",
      "source": [
        "Following is the variance. Variance shows us how the data varies with respect to the mean of the data."
      ],
      "metadata": {
        "id": "c8lX5m51i0cm"
      }
    },
    {
      "cell_type": "code",
      "source": [
        "statistics.variance(df['Ave'])"
      ],
      "metadata": {
        "id": "snPwZlQV8EUL",
        "colab": {
          "base_uri": "https://localhost:8080/"
        },
        "outputId": "2cc19e39-5b8c-4212-c5a7-9898428f7c1a"
      },
      "execution_count": 5,
      "outputs": [
        {
          "output_type": "execute_result",
          "data": {
            "text/plain": [
              "79.05453246492986"
            ]
          },
          "metadata": {},
          "execution_count": 5
        }
      ]
    },
    {
      "cell_type": "markdown",
      "source": [
        "As we can see in the following graph, the dataset almost resembles a normal bell curve"
      ],
      "metadata": {
        "id": "neBxF1mdjKr7"
      }
    },
    {
      "cell_type": "code",
      "source": [
        "df['Ave'].var()\n",
        "print('Null hypothesis is that variance = ',df['Ave'].var())\n",
        "print('Alternate hypothesis is that variance != ',df['Ave'].var())"
      ],
      "metadata": {
        "id": "zHozH5W093b7",
        "colab": {
          "base_uri": "https://localhost:8080/"
        },
        "outputId": "e7117789-1a27-493c-f94b-ae240e916208"
      },
      "execution_count": null,
      "outputs": [
        {
          "output_type": "stream",
          "name": "stdout",
          "text": [
            "Null hypothesis is that variance =  79.05453246492986\n",
            "Alternate hypothesis is that variance !=  79.05453246492986\n"
          ]
        }
      ]
    },
    {
      "cell_type": "code",
      "source": [
        "sns.set(style=\"dark\")\n",
        "sns.distplot(df['Ave'], kde=True, color=\"black\")"
      ],
      "metadata": {
        "id": "3_euneXu8MBz",
        "colab": {
          "base_uri": "https://localhost:8080/",
          "height": 358
        },
        "outputId": "ef7d384a-d65b-4402-d63d-baff332775a6"
      },
      "execution_count": 6,
      "outputs": [
        {
          "output_type": "stream",
          "name": "stderr",
          "text": [
            "/usr/local/lib/python3.8/dist-packages/seaborn/distributions.py:2619: FutureWarning: `distplot` is a deprecated function and will be removed in a future version. Please adapt your code to use either `displot` (a figure-level function with similar flexibility) or `histplot` (an axes-level function for histograms).\n",
            "  warnings.warn(msg, FutureWarning)\n"
          ]
        },
        {
          "output_type": "execute_result",
          "data": {
            "text/plain": [
              "<matplotlib.axes._subplots.AxesSubplot at 0x7ff212425850>"
            ]
          },
          "metadata": {},
          "execution_count": 6
        },
        {
          "output_type": "display_data",
          "data": {
            "text/plain": [
              "<Figure size 432x288 with 1 Axes>"
            ],
            "image/png": "[encoded data removed]"
          },
          "metadata": {}
        }
      ]
    },
    {
      "cell_type": "code",
      "source": [
        "df.shape[0]"
      ],
      "metadata": {
        "id": "sXBH4TFV8SG9",
        "colab": {
          "base_uri": "https://localhost:8080/"
        },
        "outputId": "e56f337d-3917-4b79-f0a2-d4698454daaa"
      },
      "execution_count": 7,
      "outputs": [
        {
          "output_type": "execute_result",
          "data": {
            "text/plain": [
              "500"
            ]
          },
          "metadata": {},
          "execution_count": 7
        }
      ]
    },
    {
      "cell_type": "code",
      "source": [
        "from numpy.random import randn\n",
        "from statsmodels.stats.weightstats import ztest\n",
        "\n",
        "alpha=0.05\n",
        "\n",
        "ztest_Score, p_value= ztest(df['Ave'],value = null_hypo, alternative='larger')\n",
        "# the function outputs a p_value and z-score corresponding to that value, we compare the \n",
        "# p-value with alpha, if it is greater than alpha then we do not null hypothesis \n",
        "# else we reject it.\n",
        "  \n",
        "if(p_value <  alpha):\n",
        "  print(\"Reject Null Hypothesis\")\n",
        "else:\n",
        "  print(\"Fail to Reject NUll Hypothesis thus null hypothesis true\")"
      ],
      "metadata": {
        "id": "lIl4ZZZ29YhI",
        "colab": {
          "base_uri": "https://localhost:8080/"
        },
        "outputId": "71354f6b-580c-4316-f43c-1723ed7d8031"
      },
      "execution_count": 8,
      "outputs": [
        {
          "output_type": "stream",
          "name": "stdout",
          "text": [
            "Fail to Reject NUll Hypothesis thus null hypothesis true\n"
          ]
        }
      ]
    },
    {
      "cell_type": "markdown",
      "source": [
        "Here we performed the z test criterion. The null hypothesis says that the mean Average is 30.795 whereas the alternate hypothesis says that it is not equal to 30.795. The significance level is kept at 5%. The null hypothesis is failed to be rejected."
      ],
      "metadata": {
        "id": "J-EVkNcUjauW"
      }
    },
    {
      "cell_type": "code",
      "source": [
        "df2=df.head(60)\n",
        "\n",
        "t_value,p_value=stats.ttest_1samp(df2['Ave'],40)\n",
        "two_tailed_p_value=float(\"{:.6f}\".format(p_value))\n",
        "print('Test statistic is %f'%float(\"{:.6f}\".format(t_value)))\n",
        "\n",
        "print('p-value for one tailed test is %f'%two_tailed_p_value)\n",
        "\n",
        "alpha = 0.1\n",
        "\n",
        "if two_tailed_p_value<=alpha:\n",
        "  print('Null Hypothesis is rejected')\n",
        "\n",
        "else:\n",
        "  print('We do not reject the Null Hypothesis ')"
      ],
      "metadata": {
        "id": "Pu9yJSkr9jDh",
        "colab": {
          "base_uri": "https://localhost:8080/"
        },
        "outputId": "a52a6416-b5a6-455b-84e6-742b9e23a351"
      },
      "execution_count": 9,
      "outputs": [
        {
          "output_type": "stream",
          "name": "stdout",
          "text": [
            "Test statistic is -1.016234\n",
            "p-value for one tailed test is 0.313667\n",
            "We do not reject the Null Hypothesis \n"
          ]
        }
      ]
    },
    {
      "cell_type": "markdown",
      "source": [
        "Now we perform T test. The Alternative Hypothesis states that mean is greater than mean. The significance level is again considered to be 5% for this test. The significance level is lesser than the p-value and hence why we Fail to Reject the Null Hypothesis."
      ],
      "metadata": {
        "id": "I3c5UmxQkg09"
      }
    },
    {
      "cell_type": "code",
      "source": [
        "import math\n",
        "alpha=0.05/2\n",
        "dof=df2.shape[0]-1\n",
        "\n",
        "rejectionRegion=scipy.stats.chi2.ppf(1-alpha,dof)\n",
        "print('Rejection region is',rejectionRegion)\n",
        "\n",
        "n=df.shape[0]\n",
        "variance=df['Ave'].var()\n",
        "standDev=math.sqrt(df2['Ave'].var())\n",
        "chisquareval=(float)((n-1)*standDev*standDev)\n",
        "\n",
        "chisquareval=chisquareval/variance\n",
        "print('Chi square value is',chisquareval)"
      ],
      "metadata": {
        "colab": {
          "base_uri": "https://localhost:8080/"
        },
        "id": "uZGFAgKBfoFD",
        "outputId": "82900cc7-7bba-4ed9-b4f1-01dfd4593f85"
      },
      "execution_count": 11,
      "outputs": [
        {
          "output_type": "stream",
          "name": "stdout",
          "text": [
            "Rejection region is 82.1174059402383\n",
            "Chi square value is 275.1316681128145\n"
          ]
        }
      ]
    },
    {
      "cell_type": "code",
      "source": [
        "if chisquareval <=rejectionRegion:\n",
        "  print(\"cannot reject null hypotheses\")\n",
        "else:\n",
        "  print('Reject null hypothesis')"
      ],
      "metadata": {
        "colab": {
          "base_uri": "https://localhost:8080/"
        },
        "id": "m0SHkpKQgsUF",
        "outputId": "a119703f-cbd7-45d7-c5c4-523f93ec11d7"
      },
      "execution_count": 12,
      "outputs": [
        {
          "output_type": "stream",
          "name": "stdout",
          "text": [
            "Reject null hypothesis\n"
          ]
        }
      ]
    },
    {
      "cell_type": "markdown",
      "source": [
        "After performing Chi square test we can see, the significance level is lesser than the p-value which is why we Reject the Null Hypothesis."
      ],
      "metadata": {
        "id": "SE6-BWNWlE1m"
      }
    }
  ]
}